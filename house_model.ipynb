{
 "cells": [
  {
   "cell_type": "markdown",
   "id": "71296a1d-b05f-4355-b9c7-e24d92b2fa89",
   "metadata": {},
   "source": [
    "**End to End ML Model development**\n",
    "\n",
    "- Problem Definition\n",
    "    \n",
    "- Data Collection\n",
    "    \n",
    "- Data Preprocessing\n",
    "    \n",
    "- Exploratory Data Analysis (EDA)\n",
    "    \n",
    "- Feature Selection and Feature scaling\n",
    "    \n",
    "- Model Selection and Training\n",
    "\n",
    "- Assumptions Check\n",
    "    \n",
    "- Model Evaluation\n",
    "    \n",
    "- Save the model"
   ]
  },
  {
   "cell_type": "markdown",
   "id": "ab7e79da-ba54-46b6-87c8-466b353f795e",
   "metadata": {},
   "source": [
    "**1. Problem Definition**\n",
    "- Predicting house prices based on various features like size, location, number of room, etc."
   ]
  },
  {
   "cell_type": "markdown",
   "id": "922b71e6-2813-4538-aba6-9c0a5d6b204d",
   "metadata": {},
   "source": [
    "**2. Data Collection**\n",
    "- collect the data relevant to the problem. this could be from a CSV file, a database or an API"
   ]
  },
  {
   "cell_type": "code",
   "execution_count": 6,
   "id": "874419c5-9db7-477f-a2fe-48010189b65e",
   "metadata": {},
   "outputs": [],
   "source": [
    "    # IMPORT all-important common packages\n",
    "    import pandas as pd\n",
    "    import numpy as np\n",
    "    import matplotlib.pyplot as plt\n",
    "    import seaborn as sns\n",
    "    from sklearn.datasets import fetch_california_housing\n",
    "    from statsmodels.stats.outliers_influence import variance_inflation_factor"
   ]
  },
  {
   "cell_type": "code",
   "execution_count": 7,
   "id": "36860390-4b96-4bb6-a6a7-b1a177ac1a34",
   "metadata": {},
   "outputs": [],
   "source": [
    "input_data = fetch_california_housing()[\"data\"]"
   ]
  },
  {
   "cell_type": "code",
   "execution_count": 8,
   "id": "748e35d1-df5a-4db2-8c2e-9acb420e4838",
   "metadata": {},
   "outputs": [],
   "source": [
    "description = fetch_california_housing()[\"DESCR\"]\n"
   ]
  },
  {
   "cell_type": "code",
   "execution_count": 9,
   "id": "e834ef91-bee6-46b7-9e4c-89f31fd79539",
   "metadata": {},
   "outputs": [
    {
     "data": {
      "text/plain": [
       "20640"
      ]
     },
     "execution_count": 9,
     "metadata": {},
     "output_type": "execute_result"
    }
   ],
   "source": [
    "output_data = fetch_california_housing()['target']\n",
    "len(output_data)"
   ]
  },
  {
   "cell_type": "code",
   "execution_count": 10,
   "id": "b7380ebc-eeb1-41d2-9961-e4c51484013b",
   "metadata": {},
   "outputs": [
    {
     "data": {
      "text/plain": [
       "['MedHouseVal']"
      ]
     },
     "execution_count": 10,
     "metadata": {},
     "output_type": "execute_result"
    }
   ],
   "source": [
    "target_feature = fetch_california_housing()['target_names']\n",
    "target_feature"
   ]
  },
  {
   "cell_type": "code",
   "execution_count": 11,
   "id": "41d40181-c003-4120-bf49-2b7cdd3fabb8",
   "metadata": {},
   "outputs": [
    {
     "data": {
      "text/plain": [
       "['MedInc',\n",
       " 'HouseAge',\n",
       " 'AveRooms',\n",
       " 'AveBedrms',\n",
       " 'Population',\n",
       " 'AveOccup',\n",
       " 'Latitude',\n",
       " 'Longitude']"
      ]
     },
     "execution_count": 11,
     "metadata": {},
     "output_type": "execute_result"
    }
   ],
   "source": [
    "input_feature = fetch_california_housing()['feature_names']\n",
    "input_feature"
   ]
  },
  {
   "cell_type": "code",
   "execution_count": 12,
   "id": "7830319f-8a0d-41b4-9b8a-c03fe4d2fd81",
   "metadata": {},
   "outputs": [
    {
     "data": {
      "text/plain": [
       "array([[   8.3252    ,   41.        ,    6.98412698, ...,    2.55555556,\n",
       "          37.88      , -122.23      ],\n",
       "       [   8.3014    ,   21.        ,    6.23813708, ...,    2.10984183,\n",
       "          37.86      , -122.22      ],\n",
       "       [   7.2574    ,   52.        ,    8.28813559, ...,    2.80225989,\n",
       "          37.85      , -122.24      ],\n",
       "       ...,\n",
       "       [   1.7       ,   17.        ,    5.20554273, ...,    2.3256351 ,\n",
       "          39.43      , -121.22      ],\n",
       "       [   1.8672    ,   18.        ,    5.32951289, ...,    2.12320917,\n",
       "          39.43      , -121.32      ],\n",
       "       [   2.3886    ,   16.        ,    5.25471698, ...,    2.61698113,\n",
       "          39.37      , -121.24      ]])"
      ]
     },
     "execution_count": 12,
     "metadata": {},
     "output_type": "execute_result"
    }
   ],
   "source": [
    "input_data"
   ]
  },
  {
   "cell_type": "code",
   "execution_count": 16,
   "id": "2ad72092-4577-4082-8af6-82e29e8245e7",
   "metadata": {},
   "outputs": [
    {
     "data": {
      "text/plain": [
       "(8, 8)"
      ]
     },
     "execution_count": 16,
     "metadata": {},
     "output_type": "execute_result"
    }
   ],
   "source": [
    "len(input_data[0]),len(input_feature)"
   ]
  },
  {
   "cell_type": "code",
   "execution_count": 22,
   "id": "1b690206-3301-4db6-9a81-fdf5c7fbbde8",
   "metadata": {},
   "outputs": [
    {
     "data": {
      "text/html": [
       "<div>\n",
       "<style scoped>\n",
       "    .dataframe tbody tr th:only-of-type {\n",
       "        vertical-align: middle;\n",
       "    }\n",
       "\n",
       "    .dataframe tbody tr th {\n",
       "        vertical-align: top;\n",
       "    }\n",
       "\n",
       "    .dataframe thead th {\n",
       "        text-align: right;\n",
       "    }\n",
       "</style>\n",
       "<table border=\"1\" class=\"dataframe\">\n",
       "  <thead>\n",
       "    <tr style=\"text-align: right;\">\n",
       "      <th></th>\n",
       "      <th>MedInc</th>\n",
       "      <th>HouseAge</th>\n",
       "      <th>AveRooms</th>\n",
       "      <th>AveBedrms</th>\n",
       "      <th>Population</th>\n",
       "      <th>AveOccup</th>\n",
       "      <th>Latitude</th>\n",
       "      <th>Longitude</th>\n",
       "      <th>MedHouseVal</th>\n",
       "    </tr>\n",
       "  </thead>\n",
       "  <tbody>\n",
       "    <tr>\n",
       "      <th>0</th>\n",
       "      <td>8.3252</td>\n",
       "      <td>41.0</td>\n",
       "      <td>6.984127</td>\n",
       "      <td>1.023810</td>\n",
       "      <td>322.0</td>\n",
       "      <td>2.555556</td>\n",
       "      <td>37.88</td>\n",
       "      <td>-122.23</td>\n",
       "      <td>4.526</td>\n",
       "    </tr>\n",
       "    <tr>\n",
       "      <th>1</th>\n",
       "      <td>8.3014</td>\n",
       "      <td>21.0</td>\n",
       "      <td>6.238137</td>\n",
       "      <td>0.971880</td>\n",
       "      <td>2401.0</td>\n",
       "      <td>2.109842</td>\n",
       "      <td>37.86</td>\n",
       "      <td>-122.22</td>\n",
       "      <td>3.585</td>\n",
       "    </tr>\n",
       "    <tr>\n",
       "      <th>2</th>\n",
       "      <td>7.2574</td>\n",
       "      <td>52.0</td>\n",
       "      <td>8.288136</td>\n",
       "      <td>1.073446</td>\n",
       "      <td>496.0</td>\n",
       "      <td>2.802260</td>\n",
       "      <td>37.85</td>\n",
       "      <td>-122.24</td>\n",
       "      <td>3.521</td>\n",
       "    </tr>\n",
       "    <tr>\n",
       "      <th>3</th>\n",
       "      <td>5.6431</td>\n",
       "      <td>52.0</td>\n",
       "      <td>5.817352</td>\n",
       "      <td>1.073059</td>\n",
       "      <td>558.0</td>\n",
       "      <td>2.547945</td>\n",
       "      <td>37.85</td>\n",
       "      <td>-122.25</td>\n",
       "      <td>3.413</td>\n",
       "    </tr>\n",
       "    <tr>\n",
       "      <th>4</th>\n",
       "      <td>3.8462</td>\n",
       "      <td>52.0</td>\n",
       "      <td>6.281853</td>\n",
       "      <td>1.081081</td>\n",
       "      <td>565.0</td>\n",
       "      <td>2.181467</td>\n",
       "      <td>37.85</td>\n",
       "      <td>-122.25</td>\n",
       "      <td>3.422</td>\n",
       "    </tr>\n",
       "    <tr>\n",
       "      <th>...</th>\n",
       "      <td>...</td>\n",
       "      <td>...</td>\n",
       "      <td>...</td>\n",
       "      <td>...</td>\n",
       "      <td>...</td>\n",
       "      <td>...</td>\n",
       "      <td>...</td>\n",
       "      <td>...</td>\n",
       "      <td>...</td>\n",
       "    </tr>\n",
       "    <tr>\n",
       "      <th>20635</th>\n",
       "      <td>1.5603</td>\n",
       "      <td>25.0</td>\n",
       "      <td>5.045455</td>\n",
       "      <td>1.133333</td>\n",
       "      <td>845.0</td>\n",
       "      <td>2.560606</td>\n",
       "      <td>39.48</td>\n",
       "      <td>-121.09</td>\n",
       "      <td>0.781</td>\n",
       "    </tr>\n",
       "    <tr>\n",
       "      <th>20636</th>\n",
       "      <td>2.5568</td>\n",
       "      <td>18.0</td>\n",
       "      <td>6.114035</td>\n",
       "      <td>1.315789</td>\n",
       "      <td>356.0</td>\n",
       "      <td>3.122807</td>\n",
       "      <td>39.49</td>\n",
       "      <td>-121.21</td>\n",
       "      <td>0.771</td>\n",
       "    </tr>\n",
       "    <tr>\n",
       "      <th>20637</th>\n",
       "      <td>1.7000</td>\n",
       "      <td>17.0</td>\n",
       "      <td>5.205543</td>\n",
       "      <td>1.120092</td>\n",
       "      <td>1007.0</td>\n",
       "      <td>2.325635</td>\n",
       "      <td>39.43</td>\n",
       "      <td>-121.22</td>\n",
       "      <td>0.923</td>\n",
       "    </tr>\n",
       "    <tr>\n",
       "      <th>20638</th>\n",
       "      <td>1.8672</td>\n",
       "      <td>18.0</td>\n",
       "      <td>5.329513</td>\n",
       "      <td>1.171920</td>\n",
       "      <td>741.0</td>\n",
       "      <td>2.123209</td>\n",
       "      <td>39.43</td>\n",
       "      <td>-121.32</td>\n",
       "      <td>0.847</td>\n",
       "    </tr>\n",
       "    <tr>\n",
       "      <th>20639</th>\n",
       "      <td>2.3886</td>\n",
       "      <td>16.0</td>\n",
       "      <td>5.254717</td>\n",
       "      <td>1.162264</td>\n",
       "      <td>1387.0</td>\n",
       "      <td>2.616981</td>\n",
       "      <td>39.37</td>\n",
       "      <td>-121.24</td>\n",
       "      <td>0.894</td>\n",
       "    </tr>\n",
       "  </tbody>\n",
       "</table>\n",
       "<p>20640 rows × 9 columns</p>\n",
       "</div>"
      ],
      "text/plain": [
       "       MedInc  HouseAge  AveRooms  AveBedrms  Population  AveOccup  Latitude  \\\n",
       "0      8.3252      41.0  6.984127   1.023810       322.0  2.555556     37.88   \n",
       "1      8.3014      21.0  6.238137   0.971880      2401.0  2.109842     37.86   \n",
       "2      7.2574      52.0  8.288136   1.073446       496.0  2.802260     37.85   \n",
       "3      5.6431      52.0  5.817352   1.073059       558.0  2.547945     37.85   \n",
       "4      3.8462      52.0  6.281853   1.081081       565.0  2.181467     37.85   \n",
       "...       ...       ...       ...        ...         ...       ...       ...   \n",
       "20635  1.5603      25.0  5.045455   1.133333       845.0  2.560606     39.48   \n",
       "20636  2.5568      18.0  6.114035   1.315789       356.0  3.122807     39.49   \n",
       "20637  1.7000      17.0  5.205543   1.120092      1007.0  2.325635     39.43   \n",
       "20638  1.8672      18.0  5.329513   1.171920       741.0  2.123209     39.43   \n",
       "20639  2.3886      16.0  5.254717   1.162264      1387.0  2.616981     39.37   \n",
       "\n",
       "       Longitude  MedHouseVal  \n",
       "0        -122.23        4.526  \n",
       "1        -122.22        3.585  \n",
       "2        -122.24        3.521  \n",
       "3        -122.25        3.413  \n",
       "4        -122.25        3.422  \n",
       "...          ...          ...  \n",
       "20635    -121.09        0.781  \n",
       "20636    -121.21        0.771  \n",
       "20637    -121.22        0.923  \n",
       "20638    -121.32        0.847  \n",
       "20639    -121.24        0.894  \n",
       "\n",
       "[20640 rows x 9 columns]"
      ]
     },
     "execution_count": 22,
     "metadata": {},
     "output_type": "execute_result"
    }
   ],
   "source": [
    "housing_df = pd.DataFrame()\n",
    "housing_df[input_feature]= input_data\n",
    "housing_df['MedHouseVal']= output_data\n",
    "housing_df"
   ]
  },
  {
   "cell_type": "markdown",
   "id": "26111231-9cc4-46fe-b15e-311d9d1839ef",
   "metadata": {},
   "source": [
    "**Step-3: Feature selection-Feature scalling**"
   ]
  },
  {
   "cell_type": "markdown",
   "id": "5782d015-424b-45d9-bd58-43787ccc3fca",
   "metadata": {},
   "source": [
    "**Lets see what if we do a this task**\n",
    "- Task 1: scale the data, then do the VIF\n",
    "- Task 2: First do VIF, then Scale the data "
   ]
  },
  {
   "cell_type": "markdown",
   "id": "ab173f39-a42b-4f0d-b5ad-e33465fb642f",
   "metadata": {},
   "source": [
    "**Task 1** \n",
    "- \n",
    "Whenever you scale then data exclude the Target colums"
   ]
  },
  {
   "cell_type": "code",
   "execution_count": 27,
   "id": "595260b7-fc8c-4f3d-98d4-3ffeb0351364",
   "metadata": {},
   "outputs": [
    {
     "data": {
      "text/plain": [
       "array([[ 2.34476576,  0.98214266,  0.62855945, ..., -0.04959654,\n",
       "         1.05254828, -1.32783522],\n",
       "       [ 2.33223796, -0.60701891,  0.32704136, ..., -0.09251223,\n",
       "         1.04318455, -1.32284391],\n",
       "       [ 1.7826994 ,  1.85618152,  1.15562047, ..., -0.02584253,\n",
       "         1.03850269, -1.33282653],\n",
       "       ...,\n",
       "       [-1.14259331, -0.92485123, -0.09031802, ..., -0.0717345 ,\n",
       "         1.77823747, -0.8237132 ],\n",
       "       [-1.05458292, -0.84539315, -0.04021111, ..., -0.09122515,\n",
       "         1.77823747, -0.87362627],\n",
       "       [-0.78012947, -1.00430931, -0.07044252, ..., -0.04368215,\n",
       "         1.75014627, -0.83369581]])"
      ]
     },
     "execution_count": 27,
     "metadata": {},
     "output_type": "execute_result"
    }
   ],
   "source": [
    "# check the missing \n",
    "\n",
    "from sklearn.preprocessing import StandardScaler\n",
    "scaler = StandardScaler()\n",
    "scaled_features = scaler.fit_transform(housing_df.drop(\"MedHouseVal\",axis=1))\n",
    "scaled_features"
   ]
  },
  {
   "cell_type": "code",
   "execution_count": 29,
   "id": "c0bb5cd0-7a8c-455b-84bf-33a05fe741a7",
   "metadata": {},
   "outputs": [
    {
     "data": {
      "text/html": [
       "<div>\n",
       "<style scoped>\n",
       "    .dataframe tbody tr th:only-of-type {\n",
       "        vertical-align: middle;\n",
       "    }\n",
       "\n",
       "    .dataframe tbody tr th {\n",
       "        vertical-align: top;\n",
       "    }\n",
       "\n",
       "    .dataframe thead th {\n",
       "        text-align: right;\n",
       "    }\n",
       "</style>\n",
       "<table border=\"1\" class=\"dataframe\">\n",
       "  <thead>\n",
       "    <tr style=\"text-align: right;\">\n",
       "      <th></th>\n",
       "      <th>MedInc</th>\n",
       "      <th>HouseAge</th>\n",
       "      <th>AveRooms</th>\n",
       "      <th>AveBedrms</th>\n",
       "      <th>Population</th>\n",
       "      <th>AveOccup</th>\n",
       "      <th>Latitude</th>\n",
       "      <th>Longitude</th>\n",
       "      <th>MedHouseVal</th>\n",
       "    </tr>\n",
       "  </thead>\n",
       "  <tbody>\n",
       "    <tr>\n",
       "      <th>0</th>\n",
       "      <td>2.344766</td>\n",
       "      <td>0.982143</td>\n",
       "      <td>0.628559</td>\n",
       "      <td>-0.153758</td>\n",
       "      <td>-0.974429</td>\n",
       "      <td>-0.049597</td>\n",
       "      <td>1.052548</td>\n",
       "      <td>-1.327835</td>\n",
       "      <td>4.526</td>\n",
       "    </tr>\n",
       "    <tr>\n",
       "      <th>1</th>\n",
       "      <td>2.332238</td>\n",
       "      <td>-0.607019</td>\n",
       "      <td>0.327041</td>\n",
       "      <td>-0.263336</td>\n",
       "      <td>0.861439</td>\n",
       "      <td>-0.092512</td>\n",
       "      <td>1.043185</td>\n",
       "      <td>-1.322844</td>\n",
       "      <td>3.585</td>\n",
       "    </tr>\n",
       "    <tr>\n",
       "      <th>2</th>\n",
       "      <td>1.782699</td>\n",
       "      <td>1.856182</td>\n",
       "      <td>1.155620</td>\n",
       "      <td>-0.049016</td>\n",
       "      <td>-0.820777</td>\n",
       "      <td>-0.025843</td>\n",
       "      <td>1.038503</td>\n",
       "      <td>-1.332827</td>\n",
       "      <td>3.521</td>\n",
       "    </tr>\n",
       "    <tr>\n",
       "      <th>3</th>\n",
       "      <td>0.932968</td>\n",
       "      <td>1.856182</td>\n",
       "      <td>0.156966</td>\n",
       "      <td>-0.049833</td>\n",
       "      <td>-0.766028</td>\n",
       "      <td>-0.050329</td>\n",
       "      <td>1.038503</td>\n",
       "      <td>-1.337818</td>\n",
       "      <td>3.413</td>\n",
       "    </tr>\n",
       "    <tr>\n",
       "      <th>4</th>\n",
       "      <td>-0.012881</td>\n",
       "      <td>1.856182</td>\n",
       "      <td>0.344711</td>\n",
       "      <td>-0.032906</td>\n",
       "      <td>-0.759847</td>\n",
       "      <td>-0.085616</td>\n",
       "      <td>1.038503</td>\n",
       "      <td>-1.337818</td>\n",
       "      <td>3.422</td>\n",
       "    </tr>\n",
       "  </tbody>\n",
       "</table>\n",
       "</div>"
      ],
      "text/plain": [
       "     MedInc  HouseAge  AveRooms  AveBedrms  Population  AveOccup  Latitude  \\\n",
       "0  2.344766  0.982143  0.628559  -0.153758   -0.974429 -0.049597  1.052548   \n",
       "1  2.332238 -0.607019  0.327041  -0.263336    0.861439 -0.092512  1.043185   \n",
       "2  1.782699  1.856182  1.155620  -0.049016   -0.820777 -0.025843  1.038503   \n",
       "3  0.932968  1.856182  0.156966  -0.049833   -0.766028 -0.050329  1.038503   \n",
       "4 -0.012881  1.856182  0.344711  -0.032906   -0.759847 -0.085616  1.038503   \n",
       "\n",
       "   Longitude  MedHouseVal  \n",
       "0  -1.327835        4.526  \n",
       "1  -1.322844        3.585  \n",
       "2  -1.332827        3.521  \n",
       "3  -1.337818        3.413  \n",
       "4  -1.337818        3.422  "
      ]
     },
     "execution_count": 29,
     "metadata": {},
     "output_type": "execute_result"
    }
   ],
   "source": [
    "# create a new data frame with scaled features\n",
    "\n",
    "data_scaled = pd.DataFrame(scaled_features,columns=housing_df.columns[:-1])\n",
    "data_scaled[\"MedHouseVal\"] = housing_df[\"MedHouseVal\"]\n",
    "data_scaled.head()"
   ]
  },
  {
   "cell_type": "code",
   "execution_count": 31,
   "id": "65db403f-3f15-4847-80d7-959b5acbc436",
   "metadata": {},
   "outputs": [
    {
     "name": "stdout",
     "output_type": "stream",
     "text": [
      "               MedInc  HouseAge  AveRooms  AveBedrms  Population  AveOccup  \\\n",
      "MedInc       1.000000 -0.119034  0.326895  -0.062040    0.004834  0.018766   \n",
      "HouseAge    -0.119034  1.000000 -0.153277  -0.077747   -0.296244  0.013191   \n",
      "AveRooms     0.326895 -0.153277  1.000000   0.847621   -0.072213 -0.004852   \n",
      "AveBedrms   -0.062040 -0.077747  0.847621   1.000000   -0.066197 -0.006181   \n",
      "Population   0.004834 -0.296244 -0.072213  -0.066197    1.000000  0.069863   \n",
      "AveOccup     0.018766  0.013191 -0.004852  -0.006181    0.069863  1.000000   \n",
      "Latitude    -0.079809  0.011173  0.106389   0.069721   -0.108785  0.002366   \n",
      "Longitude   -0.015176 -0.108197 -0.027540   0.013344    0.099773  0.002476   \n",
      "MedHouseVal  0.688075  0.105623  0.151948  -0.046701   -0.024650 -0.023737   \n",
      "\n",
      "             Latitude  Longitude  MedHouseVal  \n",
      "MedInc      -0.079809  -0.015176     0.688075  \n",
      "HouseAge     0.011173  -0.108197     0.105623  \n",
      "AveRooms     0.106389  -0.027540     0.151948  \n",
      "AveBedrms    0.069721   0.013344    -0.046701  \n",
      "Population  -0.108785   0.099773    -0.024650  \n",
      "AveOccup     0.002366   0.002476    -0.023737  \n",
      "Latitude     1.000000  -0.924664    -0.144160  \n",
      "Longitude   -0.924664   1.000000    -0.045967  \n",
      "MedHouseVal -0.144160  -0.045967     1.000000  \n"
     ]
    }
   ],
   "source": [
    "# compute the correlation matrix\n",
    "corr_matrix = data_scaled.corr()\n",
    "print(corr_matrix)"
   ]
  },
  {
   "cell_type": "code",
   "execution_count": 33,
   "id": "1225fae8-5a1e-4dc9-afc3-44934660f25c",
   "metadata": {},
   "outputs": [
    {
     "data": {
      "image/png": "[encoded data removed]",
      "text/plain": [
       "<Figure size 640x480 with 2 Axes>"
      ]
     },
     "metadata": {},
     "output_type": "display_data"
    }
   ],
   "source": [
    "# Varsualize the Correlation matrix\n",
    "sns.heatmap(corr_matrix,annot = True,cmap = \"coolwarm\")\n",
    "plt.savefig('Varsualize the Correlation matrix.png')\n",
    "\n",
    "plt.show()"
   ]
  },
  {
   "cell_type": "code",
   "execution_count": 35,
   "id": "572a0820-5979-4d2a-a0a3-7bca7f3c1cb6",
   "metadata": {},
   "outputs": [
    {
     "data": {
      "image/png": "[encoded data removed]",
      "text/plain": [
       "<Figure size 1000x500 with 3 Axes>"
      ]
     },
     "metadata": {},
     "output_type": "display_data"
    }
   ],
   "source": [
    "plt.figure(figsize=(10,5))\n",
    "plt.subplot(1,3,1).scatter(data_scaled[\"AveRooms\"],data_scaled[\"AveBedrms\"])\n",
    "plt.subplot(1,3,2).scatter(data_scaled[\"Latitude\"],data_scaled['Longitude'])\n",
    "plt.subplot(1,3,3).scatter(data_scaled[\"Population\"],data_scaled['MedInc'])\n",
    "plt.show()"
   ]
  },
  {
   "cell_type": "markdown",
   "id": "35e14037-1b50-49f4-9bbc-6c5fea95245a",
   "metadata": {},
   "source": [
    "**VIF Calculation**\n",
    "\n",
    "- Every time one input variable behave as output\n",
    "\n",
    "- we will get R_Square value\n",
    "\n",
    "<img id=\"dimg_25\" src=\"data:image/png;base64,iVBORw0KGgoAAAANSUhEUgAAATgAAACiCAMAAADiKyHJAAAAe1BMVEX///8AAACgoKDExMTt7e1aWlrW1ta2trb5+fktLS1JSUlnZ2dAQEDY2Njs7Oz39/dERETh4eGysrI5OTmCgoK9vb14eHhvb2+amprLy8uSkpLOzs6srKyEhITm5uYaGhonJycxMTEMDAxOTk5gYGAZGRlXV1ecnJwSEhKI5Fy8AAAHsklEQVR4nO2d62KyOhBFDSKgKIiKVEUQtZ6+/xMeE1ByA2u+UCXO+lVjQNzmMpmZpIMBAAAAAAAAAAAAAAAAYD7DVz9AP3H381c/Qh/J5jkavfohekdoIwwI9yTDBIFwCqwQAuFUcGZXQDhFQDg1PBBODRBOERBOERBOlQkIp8YMhFPDAeHUAOEUAeEUAeEUAeEUAeEUAeEUAeEUAeEUAeEUAeEUAeEUAeEUAeEUAeEUAeEUAeEUAeEUAde5GhDlUgSEUwSEUwULd+7u9l5gUwSeUBoMBiFTJ8MVsoApYwi6e9pfcn26sEyQW9tBZnfyGdEY0WzKUpcqGgzWTBXyK/oJex1D1MmTPkFyZUVYJ4mfdvMhUbqovu92sUiDW2Ep3dRNrx+7Sxf7qo67uD1GNG3SbRV286TvR1zqxhaSsnuvG5aaOFQFn5ScollN+RN8zuaCjLQTrhCX1U2nEs6jKpTCJcxF6WcJF+Gvu+cKEVpSo3wp3IyuQIQ7clelR/TVzUO+I5GkxQ3RNGJeXvGZ+dKvpg6WMd/lTUYinIuOGf2aCMdOT760W86K11sjf4ZEuC0znDULJ0ygl08y1kXhvtCUrWJda+QxXRJesLkiCJefunjCN4UIt6YKvtCZVSTja+A2yZknJVZH5uZbElwlKOipAPncMkUi3Bcu2nT/cO/M4SoBvbMzEWwTWzTZLM5mnh1ng08DMcJ5vmAMkxpLpoSsNqz6tfNBdu8dVrgF1ydvNQ5MyQZLuaNqCGJ/AIxw4QgJfhiykmLnVJ8d9GRqmw8j3JLugBVzYY0QkJXE/eWCHwE/A1o4W7bWPAnC4dli7JWOS+IznIpXsZybvFASB0NfoIb+CB1j4f1siXgvtMt/9+LRh/gtwvGTeF+oRzCnkJlmZKd2JFySL9I03Vbf3X30ISPzWtyq7oip1KQl4rBWGi4hLiXPcWYx35FlRE4z2cOr35LlXbgN4tb2BNItF0wRGbA8ukanT/imTG/CbdBS9tu7YlfkZosYfZAvqeYuHJJYIoNqkcC2uAsvnN7AVvhlvQtfLcHFm3AWmsgaToB3zLKrfjdHjHdOt3BePHwX4paQXSVcig7StyURCX62cKUt1XiwcHM8ucrfxj31yHjZPByhLl4edn41DvYq2VfdGhZNuHWxbl3JbPGYjdvIYvf48jeEJDjYa7SSWCIY/PaEKZHMFo8xb8lF7F+PD8XU4LfZBZUkcvOYS4tw/fSsVEdfNY3vOWt5DKrZ4jOnA4ZVq27UuuKGJfRdik38MR70Urimd+NvQVWE2BAFU11I3jEXIpzoS6ogU0cglDQJ5/fXR/Q0qzbdiNMcMSvYZZtwg1OPPcFh6Zf9ZW37aicUYmC5xCsTCukWlxWtwvWY7Ei+7OiXyl3b1KFxPK+SWLd3o822SPwBjS3TFg6BtayMo/PvkoZTrifecU6j2vY6j/A8ur3M7yXjkS+9rK84yJo5zgz3p9+1iUXjjBqGoXfj+ve1xBNK+A/P+UzD3rCprIGsxcToDKfTnQWd4t2iezjw2TTkd4Yjdb33g23lacDC/ffXH+4gMQugd1iv6aq9F87OXyCci5ZdbA6x/3L5G7xgZ5DXybDquWc9TWDBuU/ltWw0+vuQXRcpmtZal30guE/3spS+9dMu2n/non9XzWbS6rt5iijg81cOc3FkQf6fGwbej2b3pp3dvqGuO5Kfocov2pJVEK/cdClc1DlnVGwGG42d1Ur2+7lW4cjd7nls+EXOzgTZ9wt2VCUoGQx1d9Z2N+uzsBmS5UhHvx8dXuGG9dF6p312sKfdCUeidbRS9mvc1+txkeuPkE66E45EnagAcfgwrbRPaBeuttKCEyNcVo9+w55m7NHoFG5zYLxtYUILFxU3myDeHv/cP6IfncIRh3YtHPl/QDd7N1iipGT9bUS6n07h9ohJ3aB3TYa0YfwCW04/GoUju1qoZCGSPFRFM89+jRlbbjUKh2OdJ8rgJasuYzdAahTOZc02kh5plAXCoE+46AfReQblDo3euvofok84PIneU0szrNt4YvChPBpb3PVG82FMIGfy5MaObxh9wiWcN66nGbS/RZ9w+EZ2lmX41NGDnZmWw8GjTThyZAP+I8z57d5GIheubU9HwwL9ePf37hC9SdlU5MKhFhqCLeO7ZwQnfy8NWMa387xwDTswirtwHnYrG5/9LRdu3EwuTy/FnpGbWx+nfxt/WpuuyYEW7iNO6dEk3GyO0Pk2bTg4kGH6IKdJONw76+wt7F86GbzcwmgSLmWGNbKI6H1iVTt6hMPp89/UdCtutDIOPcLxNi8C4X6Fhzd9XqiCmLtrujbuwEAtwuFQzJH2WZKz96nsB7+3Wd+NaBGO+DDpAhLUoubV7cS4LWg6hMOOJPTDFJFUOZM3OsY65r+zuIYlwejL1tyQQ7kL75+2JDqTXFz978oiI0LPAvtDUSynmGVR/Cg2jvO4uge+y7g2SdyiLMrjMAve4b939I9tcvnMAxf/nZ3pxnBXyI9/Ax6yA+HUsNDHnPmhFRshs2PTXeGhveFOzY4YP31QFEB4/oQtALNBU9MDN91w6en5da8mRWgfgx33PCSl1fScry6I9/s9jHEAAAAAAAAAAAAAAABAl/wPqmVQjFmC5KMAAAAASUVORK5CYII=\" class=\"YQ4gaf\" height=\"162\" style=\"object-position:0% 58%\" width=\"312\" alt=\"Variance Inflation Factor (VIF). We ...\" data-csiid=\"XzcPZ6TQDIGsseMPuN7qqAE_6\" data-atf=\"1\">"
   ]
  },
  {
   "cell_type": "markdown",
   "id": "8b461e68-9375-43eb-80e8-9c96f21ca3df",
   "metadata": {},
   "source": [
    "- Scaled DATA we are considering\n",
    "\n",
    "- VIF will calculate on input columns\n",
    "\n",
    "- So that we will Drop the Target Column: **MedHousVal**"
   ]
  },
  {
   "cell_type": "code",
   "execution_count": 39,
   "id": "f5d56c80-d301-4efb-bf6a-e0658dee5f8e",
   "metadata": {},
   "outputs": [
    {
     "data": {
      "text/plain": [
       "Index(['MedInc', 'HouseAge', 'AveRooms', 'AveBedrms', 'Population', 'AveOccup',\n",
       "       'Latitude', 'Longitude', 'MedHouseVal'],\n",
       "      dtype='object')"
      ]
     },
     "execution_count": 39,
     "metadata": {},
     "output_type": "execute_result"
    }
   ],
   "source": [
    "data_scaled.columns"
   ]
  },
  {
   "cell_type": "code",
   "execution_count": 41,
   "id": "e07f36fa-35eb-4423-a2fb-3816101bbcb7",
   "metadata": {},
   "outputs": [
    {
     "name": "stdout",
     "output_type": "stream",
     "text": [
      "2.501294512541597\n",
      "1.2412541182182886\n",
      "8.342785615374497\n",
      "6.994994771360948\n",
      "1.138125081833602\n",
      "1.0083244489804455\n",
      "9.297624369314345\n",
      "8.96226347381992\n"
     ]
    }
   ],
   "source": [
    "X= data_scaled.drop('MedHouseVal',axis=1)\n",
    "X.shape[1]\n",
    "for i in range(len(X.columns)):\n",
    "    print(variance_inflation_factor(X.values,i))"
   ]
  },
  {
   "cell_type": "code",
   "execution_count": 43,
   "id": "321aaf7e-d80f-46f7-98a3-0831dfa4fd54",
   "metadata": {},
   "outputs": [
    {
     "data": {
      "text/plain": [
       "array([[ 2.34476576,  0.98214266,  0.62855945, ..., -0.04959654,\n",
       "         1.05254828, -1.32783522],\n",
       "       [ 2.33223796, -0.60701891,  0.32704136, ..., -0.09251223,\n",
       "         1.04318455, -1.32284391],\n",
       "       [ 1.7826994 ,  1.85618152,  1.15562047, ..., -0.02584253,\n",
       "         1.03850269, -1.33282653],\n",
       "       ...,\n",
       "       [-1.14259331, -0.92485123, -0.09031802, ..., -0.0717345 ,\n",
       "         1.77823747, -0.8237132 ],\n",
       "       [-1.05458292, -0.84539315, -0.04021111, ..., -0.09122515,\n",
       "         1.77823747, -0.87362627],\n",
       "       [-0.78012947, -1.00430931, -0.07044252, ..., -0.04368215,\n",
       "         1.75014627, -0.83369581]])"
      ]
     },
     "execution_count": 43,
     "metadata": {},
     "output_type": "execute_result"
    }
   ],
   "source": [
    "X.values\n"
   ]
  },
  {
   "cell_type": "code",
   "execution_count": 45,
   "id": "c7660c4f-4d9e-4399-a0f3-d9ec03369cbf",
   "metadata": {},
   "outputs": [
    {
     "data": {
      "text/html": [
       "<div>\n",
       "<style scoped>\n",
       "    .dataframe tbody tr th:only-of-type {\n",
       "        vertical-align: middle;\n",
       "    }\n",
       "\n",
       "    .dataframe tbody tr th {\n",
       "        vertical-align: top;\n",
       "    }\n",
       "\n",
       "    .dataframe thead th {\n",
       "        text-align: right;\n",
       "    }\n",
       "</style>\n",
       "<table border=\"1\" class=\"dataframe\">\n",
       "  <thead>\n",
       "    <tr style=\"text-align: right;\">\n",
       "      <th></th>\n",
       "      <th>feature</th>\n",
       "      <th>VIF</th>\n",
       "    </tr>\n",
       "  </thead>\n",
       "  <tbody>\n",
       "    <tr>\n",
       "      <th>0</th>\n",
       "      <td>MedInc</td>\n",
       "      <td>2.501295</td>\n",
       "    </tr>\n",
       "    <tr>\n",
       "      <th>1</th>\n",
       "      <td>HouseAge</td>\n",
       "      <td>1.241254</td>\n",
       "    </tr>\n",
       "    <tr>\n",
       "      <th>2</th>\n",
       "      <td>AveRooms</td>\n",
       "      <td>8.342786</td>\n",
       "    </tr>\n",
       "    <tr>\n",
       "      <th>3</th>\n",
       "      <td>AveBedrms</td>\n",
       "      <td>6.994995</td>\n",
       "    </tr>\n",
       "    <tr>\n",
       "      <th>4</th>\n",
       "      <td>Population</td>\n",
       "      <td>1.138125</td>\n",
       "    </tr>\n",
       "    <tr>\n",
       "      <th>5</th>\n",
       "      <td>AveOccup</td>\n",
       "      <td>1.008324</td>\n",
       "    </tr>\n",
       "    <tr>\n",
       "      <th>6</th>\n",
       "      <td>Latitude</td>\n",
       "      <td>9.297624</td>\n",
       "    </tr>\n",
       "    <tr>\n",
       "      <th>7</th>\n",
       "      <td>Longitude</td>\n",
       "      <td>8.962263</td>\n",
       "    </tr>\n",
       "  </tbody>\n",
       "</table>\n",
       "</div>"
      ],
      "text/plain": [
       "      feature       VIF\n",
       "0      MedInc  2.501295\n",
       "1    HouseAge  1.241254\n",
       "2    AveRooms  8.342786\n",
       "3   AveBedrms  6.994995\n",
       "4  Population  1.138125\n",
       "5    AveOccup  1.008324\n",
       "6    Latitude  9.297624\n",
       "7   Longitude  8.962263"
      ]
     },
     "execution_count": 45,
     "metadata": {},
     "output_type": "execute_result"
    }
   ],
   "source": [
    "# Calculate VIF for Each feature \n",
    "X = data_scaled.drop(\"MedHouseVal\",axis=1)\n",
    "vif_data = pd.DataFrame()\n",
    "vif_data[\"feature\"]= X.columns\n",
    "vif_data[\"VIF\"] = [variance_inflation_factor(X.values,i) for i in range(X.shape[1])]\n",
    "vif_data"
   ]
  },
  {
   "cell_type": "markdown",
   "id": "266e257c-62da-4d2e-9919-f6a42a2e455a",
   "metadata": {},
   "source": [
    "VIF ranges\n",
    "\n",
    "- 0 to 5\n",
    "\n",
    "- 5 to 10\n",
    "\n",
    "- More than 10\n",
    "\n",
    "- First, we took the original data\n",
    "\n",
    "- then we perform Scaling\n",
    "\n",
    "- then we apply VIF"
   ]
  },
  {
   "cell_type": "markdown",
   "id": "5875d97a-c18f-439a-bf53-34ff28d3fb3d",
   "metadata": {},
   "source": [
    "**Task-2**"
   ]
  },
  {
   "cell_type": "code",
   "execution_count": 49,
   "id": "8cfb6423-c368-47db-9136-7cb871c8ed9a",
   "metadata": {},
   "outputs": [
    {
     "data": {
      "text/html": [
       "<div>\n",
       "<style scoped>\n",
       "    .dataframe tbody tr th:only-of-type {\n",
       "        vertical-align: middle;\n",
       "    }\n",
       "\n",
       "    .dataframe tbody tr th {\n",
       "        vertical-align: top;\n",
       "    }\n",
       "\n",
       "    .dataframe thead th {\n",
       "        text-align: right;\n",
       "    }\n",
       "</style>\n",
       "<table border=\"1\" class=\"dataframe\">\n",
       "  <thead>\n",
       "    <tr style=\"text-align: right;\">\n",
       "      <th></th>\n",
       "      <th>MedInc</th>\n",
       "      <th>HouseAge</th>\n",
       "      <th>AveRooms</th>\n",
       "      <th>AveBedrms</th>\n",
       "      <th>Population</th>\n",
       "      <th>AveOccup</th>\n",
       "      <th>Latitude</th>\n",
       "      <th>Longitude</th>\n",
       "      <th>MedHouseVal</th>\n",
       "    </tr>\n",
       "  </thead>\n",
       "  <tbody>\n",
       "    <tr>\n",
       "      <th>MedInc</th>\n",
       "      <td>1.000000</td>\n",
       "      <td>-0.119034</td>\n",
       "      <td>0.326895</td>\n",
       "      <td>-0.062040</td>\n",
       "      <td>0.004834</td>\n",
       "      <td>0.018766</td>\n",
       "      <td>-0.079809</td>\n",
       "      <td>-0.015176</td>\n",
       "      <td>0.688075</td>\n",
       "    </tr>\n",
       "    <tr>\n",
       "      <th>HouseAge</th>\n",
       "      <td>-0.119034</td>\n",
       "      <td>1.000000</td>\n",
       "      <td>-0.153277</td>\n",
       "      <td>-0.077747</td>\n",
       "      <td>-0.296244</td>\n",
       "      <td>0.013191</td>\n",
       "      <td>0.011173</td>\n",
       "      <td>-0.108197</td>\n",
       "      <td>0.105623</td>\n",
       "    </tr>\n",
       "    <tr>\n",
       "      <th>AveRooms</th>\n",
       "      <td>0.326895</td>\n",
       "      <td>-0.153277</td>\n",
       "      <td>1.000000</td>\n",
       "      <td>0.847621</td>\n",
       "      <td>-0.072213</td>\n",
       "      <td>-0.004852</td>\n",
       "      <td>0.106389</td>\n",
       "      <td>-0.027540</td>\n",
       "      <td>0.151948</td>\n",
       "    </tr>\n",
       "    <tr>\n",
       "      <th>AveBedrms</th>\n",
       "      <td>-0.062040</td>\n",
       "      <td>-0.077747</td>\n",
       "      <td>0.847621</td>\n",
       "      <td>1.000000</td>\n",
       "      <td>-0.066197</td>\n",
       "      <td>-0.006181</td>\n",
       "      <td>0.069721</td>\n",
       "      <td>0.013344</td>\n",
       "      <td>-0.046701</td>\n",
       "    </tr>\n",
       "    <tr>\n",
       "      <th>Population</th>\n",
       "      <td>0.004834</td>\n",
       "      <td>-0.296244</td>\n",
       "      <td>-0.072213</td>\n",
       "      <td>-0.066197</td>\n",
       "      <td>1.000000</td>\n",
       "      <td>0.069863</td>\n",
       "      <td>-0.108785</td>\n",
       "      <td>0.099773</td>\n",
       "      <td>-0.024650</td>\n",
       "    </tr>\n",
       "    <tr>\n",
       "      <th>AveOccup</th>\n",
       "      <td>0.018766</td>\n",
       "      <td>0.013191</td>\n",
       "      <td>-0.004852</td>\n",
       "      <td>-0.006181</td>\n",
       "      <td>0.069863</td>\n",
       "      <td>1.000000</td>\n",
       "      <td>0.002366</td>\n",
       "      <td>0.002476</td>\n",
       "      <td>-0.023737</td>\n",
       "    </tr>\n",
       "    <tr>\n",
       "      <th>Latitude</th>\n",
       "      <td>-0.079809</td>\n",
       "      <td>0.011173</td>\n",
       "      <td>0.106389</td>\n",
       "      <td>0.069721</td>\n",
       "      <td>-0.108785</td>\n",
       "      <td>0.002366</td>\n",
       "      <td>1.000000</td>\n",
       "      <td>-0.924664</td>\n",
       "      <td>-0.144160</td>\n",
       "    </tr>\n",
       "    <tr>\n",
       "      <th>Longitude</th>\n",
       "      <td>-0.015176</td>\n",
       "      <td>-0.108197</td>\n",
       "      <td>-0.027540</td>\n",
       "      <td>0.013344</td>\n",
       "      <td>0.099773</td>\n",
       "      <td>0.002476</td>\n",
       "      <td>-0.924664</td>\n",
       "      <td>1.000000</td>\n",
       "      <td>-0.045967</td>\n",
       "    </tr>\n",
       "    <tr>\n",
       "      <th>MedHouseVal</th>\n",
       "      <td>0.688075</td>\n",
       "      <td>0.105623</td>\n",
       "      <td>0.151948</td>\n",
       "      <td>-0.046701</td>\n",
       "      <td>-0.024650</td>\n",
       "      <td>-0.023737</td>\n",
       "      <td>-0.144160</td>\n",
       "      <td>-0.045967</td>\n",
       "      <td>1.000000</td>\n",
       "    </tr>\n",
       "  </tbody>\n",
       "</table>\n",
       "</div>"
      ],
      "text/plain": [
       "               MedInc  HouseAge  AveRooms  AveBedrms  Population  AveOccup  \\\n",
       "MedInc       1.000000 -0.119034  0.326895  -0.062040    0.004834  0.018766   \n",
       "HouseAge    -0.119034  1.000000 -0.153277  -0.077747   -0.296244  0.013191   \n",
       "AveRooms     0.326895 -0.153277  1.000000   0.847621   -0.072213 -0.004852   \n",
       "AveBedrms   -0.062040 -0.077747  0.847621   1.000000   -0.066197 -0.006181   \n",
       "Population   0.004834 -0.296244 -0.072213  -0.066197    1.000000  0.069863   \n",
       "AveOccup     0.018766  0.013191 -0.004852  -0.006181    0.069863  1.000000   \n",
       "Latitude    -0.079809  0.011173  0.106389   0.069721   -0.108785  0.002366   \n",
       "Longitude   -0.015176 -0.108197 -0.027540   0.013344    0.099773  0.002476   \n",
       "MedHouseVal  0.688075  0.105623  0.151948  -0.046701   -0.024650 -0.023737   \n",
       "\n",
       "             Latitude  Longitude  MedHouseVal  \n",
       "MedInc      -0.079809  -0.015176     0.688075  \n",
       "HouseAge     0.011173  -0.108197     0.105623  \n",
       "AveRooms     0.106389  -0.027540     0.151948  \n",
       "AveBedrms    0.069721   0.013344    -0.046701  \n",
       "Population  -0.108785   0.099773    -0.024650  \n",
       "AveOccup     0.002366   0.002476    -0.023737  \n",
       "Latitude     1.000000  -0.924664    -0.144160  \n",
       "Longitude   -0.924664   1.000000    -0.045967  \n",
       "MedHouseVal -0.144160  -0.045967     1.000000  "
      ]
     },
     "execution_count": 49,
     "metadata": {},
     "output_type": "execute_result"
    }
   ],
   "source": [
    "# IMPORT all-important common packages\n",
    "import pandas as pd\n",
    "import numpy as np\n",
    "import matplotlib.pyplot as plt\n",
    "import seaborn as sns\n",
    "from statsmodels.stats.outliers_influence import variance_inflation_factor\n",
    "\n",
    "# Compute the correlation matrix\n",
    "corr_metrix = housing_df.corr()\n",
    "corr_matrix"
   ]
  },
  {
   "cell_type": "code",
   "execution_count": 53,
   "id": "a6484435-1f8c-47ad-a157-0eace681e8be",
   "metadata": {},
   "outputs": [
    {
     "data": {
      "image/png": "[encoded data removed]",
      "text/plain": [
       "<Figure size 640x480 with 2 Axes>"
      ]
     },
     "metadata": {},
     "output_type": "display_data"
    }
   ],
   "source": [
    "# Visualize the correlation matrix \n",
    "sns.heatmap(corr_matrix, annot= True,cmap = \"coolwarm\")\n",
    "plt.show()"
   ]
  },
  {
   "cell_type": "code",
   "execution_count": 55,
   "id": "86b6c16c-bbc4-4511-8165-2a07d2ae0553",
   "metadata": {},
   "outputs": [
    {
     "name": "stdout",
     "output_type": "stream",
     "text": [
      "      feature         VIF\n",
      "0      MedInc   11.511140\n",
      "1    HouseAge    7.195917\n",
      "2    AveRooms   45.993601\n",
      "3   AveBedrms   43.590314\n",
      "4  Population    2.935745\n",
      "5    AveOccup    1.095243\n",
      "6    Latitude  559.874071\n",
      "7   Longitude  633.711654\n"
     ]
    }
   ],
   "source": [
    "# Calculate VIF for each feature \n",
    "X = housing_df.drop(\"MedHouseVal\",axis=1)\n",
    "vif_data = pd.DataFrame()\n",
    "vif_data[\"feature\"]= X.columns\n",
    "vif_data[\"VIF\"]= [variance_inflation_factor(X.values, i) for i in range(X.shape[1])]\n",
    "print(vif_data)"
   ]
  },
  {
   "cell_type": "markdown",
   "id": "501e78ad-12fe-4bc8-877a-cd2ccf92c530",
   "metadata": {},
   "source": [
    "Recommended Approach\n",
    "\n",
    "Check for multicollinearity (VIF) before scaling.\n",
    "\n",
    "Scale the data (if necessary) for model training and evaluation."
   ]
  },
  {
   "cell_type": "code",
   "execution_count": 58,
   "id": "3aa179ae-3008-4f5f-b447-a86fb1cbd903",
   "metadata": {},
   "outputs": [
    {
     "data": {
      "text/plain": [
       "['MedInc', 'HouseAge', 'Population', 'AveOccup']"
      ]
     },
     "execution_count": 58,
     "metadata": {},
     "output_type": "execute_result"
    }
   ],
   "source": [
    "vif_data[\"VIF\"]\n",
    "con = vif_data[\"VIF\"]<15\n",
    "vif_data[con]\n",
    "vif_data[vif_data['VIF']<15]['feature']\n",
    "feature_to_keep = vif_data[vif_data[\"VIF\"]<15][\"feature\"].to_list()\n",
    "feature_to_keep"
   ]
  },
  {
   "cell_type": "code",
   "execution_count": 60,
   "id": "55c1ef52-b7eb-4d4d-9a83-2d50b59f1353",
   "metadata": {},
   "outputs": [
    {
     "name": "stdout",
     "output_type": "stream",
     "text": [
      "Selected Features: ['MedInc', 'HouseAge', 'Population', 'AveOccup']\n"
     ]
    }
   ],
   "source": [
    "# define a threshold for VIF\n",
    "vif_threshold = 15 \n",
    "\n",
    "# create a list of features to Keep \n",
    "feature_to_keep= vif_data[vif_data['VIF']<vif_threshold][\"feature\"].tolist()\n",
    "\n",
    "# Reduce the Dataset to the selected features \n",
    "X_reduced = X[feature_to_keep]\n",
    "\n",
    "print(f\"Selected Features: {feature_to_keep}\")"
   ]
  },
  {
   "cell_type": "markdown",
   "id": "2f2f725a-46c0-44e8-9161-23568ec46e00",
   "metadata": {},
   "source": [
    "**We concluded 4 columns get these comlumns data from main dataframe: housing_df**\n",
    "-"
   ]
  },
  {
   "cell_type": "code",
   "execution_count": 63,
   "id": "9f7ad9ae-30ef-4e78-916a-f3b5158a6a84",
   "metadata": {},
   "outputs": [
    {
     "data": {
      "text/html": [
       "<div>\n",
       "<style scoped>\n",
       "    .dataframe tbody tr th:only-of-type {\n",
       "        vertical-align: middle;\n",
       "    }\n",
       "\n",
       "    .dataframe tbody tr th {\n",
       "        vertical-align: top;\n",
       "    }\n",
       "\n",
       "    .dataframe thead th {\n",
       "        text-align: right;\n",
       "    }\n",
       "</style>\n",
       "<table border=\"1\" class=\"dataframe\">\n",
       "  <thead>\n",
       "    <tr style=\"text-align: right;\">\n",
       "      <th></th>\n",
       "      <th>MedInc</th>\n",
       "      <th>HouseAge</th>\n",
       "      <th>Population</th>\n",
       "      <th>AveOccup</th>\n",
       "      <th>MedHouseVal</th>\n",
       "    </tr>\n",
       "  </thead>\n",
       "  <tbody>\n",
       "    <tr>\n",
       "      <th>0</th>\n",
       "      <td>8.3252</td>\n",
       "      <td>41.0</td>\n",
       "      <td>322.0</td>\n",
       "      <td>2.555556</td>\n",
       "      <td>4.526</td>\n",
       "    </tr>\n",
       "    <tr>\n",
       "      <th>1</th>\n",
       "      <td>8.3014</td>\n",
       "      <td>21.0</td>\n",
       "      <td>2401.0</td>\n",
       "      <td>2.109842</td>\n",
       "      <td>3.585</td>\n",
       "    </tr>\n",
       "    <tr>\n",
       "      <th>2</th>\n",
       "      <td>7.2574</td>\n",
       "      <td>52.0</td>\n",
       "      <td>496.0</td>\n",
       "      <td>2.802260</td>\n",
       "      <td>3.521</td>\n",
       "    </tr>\n",
       "    <tr>\n",
       "      <th>3</th>\n",
       "      <td>5.6431</td>\n",
       "      <td>52.0</td>\n",
       "      <td>558.0</td>\n",
       "      <td>2.547945</td>\n",
       "      <td>3.413</td>\n",
       "    </tr>\n",
       "    <tr>\n",
       "      <th>4</th>\n",
       "      <td>3.8462</td>\n",
       "      <td>52.0</td>\n",
       "      <td>565.0</td>\n",
       "      <td>2.181467</td>\n",
       "      <td>3.422</td>\n",
       "    </tr>\n",
       "    <tr>\n",
       "      <th>...</th>\n",
       "      <td>...</td>\n",
       "      <td>...</td>\n",
       "      <td>...</td>\n",
       "      <td>...</td>\n",
       "      <td>...</td>\n",
       "    </tr>\n",
       "    <tr>\n",
       "      <th>20635</th>\n",
       "      <td>1.5603</td>\n",
       "      <td>25.0</td>\n",
       "      <td>845.0</td>\n",
       "      <td>2.560606</td>\n",
       "      <td>0.781</td>\n",
       "    </tr>\n",
       "    <tr>\n",
       "      <th>20636</th>\n",
       "      <td>2.5568</td>\n",
       "      <td>18.0</td>\n",
       "      <td>356.0</td>\n",
       "      <td>3.122807</td>\n",
       "      <td>0.771</td>\n",
       "    </tr>\n",
       "    <tr>\n",
       "      <th>20637</th>\n",
       "      <td>1.7000</td>\n",
       "      <td>17.0</td>\n",
       "      <td>1007.0</td>\n",
       "      <td>2.325635</td>\n",
       "      <td>0.923</td>\n",
       "    </tr>\n",
       "    <tr>\n",
       "      <th>20638</th>\n",
       "      <td>1.8672</td>\n",
       "      <td>18.0</td>\n",
       "      <td>741.0</td>\n",
       "      <td>2.123209</td>\n",
       "      <td>0.847</td>\n",
       "    </tr>\n",
       "    <tr>\n",
       "      <th>20639</th>\n",
       "      <td>2.3886</td>\n",
       "      <td>16.0</td>\n",
       "      <td>1387.0</td>\n",
       "      <td>2.616981</td>\n",
       "      <td>0.894</td>\n",
       "    </tr>\n",
       "  </tbody>\n",
       "</table>\n",
       "<p>20640 rows × 5 columns</p>\n",
       "</div>"
      ],
      "text/plain": [
       "       MedInc  HouseAge  Population  AveOccup  MedHouseVal\n",
       "0      8.3252      41.0       322.0  2.555556        4.526\n",
       "1      8.3014      21.0      2401.0  2.109842        3.585\n",
       "2      7.2574      52.0       496.0  2.802260        3.521\n",
       "3      5.6431      52.0       558.0  2.547945        3.413\n",
       "4      3.8462      52.0       565.0  2.181467        3.422\n",
       "...       ...       ...         ...       ...          ...\n",
       "20635  1.5603      25.0       845.0  2.560606        0.781\n",
       "20636  2.5568      18.0       356.0  3.122807        0.771\n",
       "20637  1.7000      17.0      1007.0  2.325635        0.923\n",
       "20638  1.8672      18.0       741.0  2.123209        0.847\n",
       "20639  2.3886      16.0      1387.0  2.616981        0.894\n",
       "\n",
       "[20640 rows x 5 columns]"
      ]
     },
     "execution_count": 63,
     "metadata": {},
     "output_type": "execute_result"
    }
   ],
   "source": [
    "housing_df_new = housing_df[feature_to_keep+[\"MedHouseVal\"]]\n",
    "housing_df_new"
   ]
  },
  {
   "cell_type": "markdown",
   "id": "0f96cf38-eadd-4169-91c0-746835d1bbad",
   "metadata": {},
   "source": [
    "**Now Scale the data**\n",
    "-"
   ]
  },
  {
   "cell_type": "code",
   "execution_count": 66,
   "id": "7e1175cb-ecee-4123-b75e-ca0bf2f27c60",
   "metadata": {},
   "outputs": [
    {
     "data": {
      "text/plain": [
       "array([[ 2.34476576,  0.98214266, -0.9744286 , -0.04959654],\n",
       "       [ 2.33223796, -0.60701891,  0.86143887, -0.09251223],\n",
       "       [ 1.7826994 ,  1.85618152, -0.82077735, -0.02584253],\n",
       "       ...,\n",
       "       [-1.14259331, -0.92485123, -0.3695372 , -0.0717345 ],\n",
       "       [-1.05458292, -0.84539315, -0.60442933, -0.09122515],\n",
       "       [-0.78012947, -1.00430931, -0.03397701, -0.04368215]])"
      ]
     },
     "execution_count": 66,
     "metadata": {},
     "output_type": "execute_result"
    }
   ],
   "source": [
    "from sklearn. preprocessing import StandardScaler\n",
    "scaler = StandardScaler()\n",
    "scaled_features  = scaler.fit_transform(housing_df[feature_to_keep])\n",
    "scaled_features"
   ]
  },
  {
   "cell_type": "code",
   "execution_count": 68,
   "id": "0ef73c4d-89a2-4227-b534-8e92667668dc",
   "metadata": {},
   "outputs": [
    {
     "data": {
      "text/html": [
       "<div>\n",
       "<style scoped>\n",
       "    .dataframe tbody tr th:only-of-type {\n",
       "        vertical-align: middle;\n",
       "    }\n",
       "\n",
       "    .dataframe tbody tr th {\n",
       "        vertical-align: top;\n",
       "    }\n",
       "\n",
       "    .dataframe thead th {\n",
       "        text-align: right;\n",
       "    }\n",
       "</style>\n",
       "<table border=\"1\" class=\"dataframe\">\n",
       "  <thead>\n",
       "    <tr style=\"text-align: right;\">\n",
       "      <th></th>\n",
       "      <th>MedInc</th>\n",
       "      <th>HouseAge</th>\n",
       "      <th>Population</th>\n",
       "      <th>AveOccup</th>\n",
       "      <th>MedHouseVal</th>\n",
       "    </tr>\n",
       "  </thead>\n",
       "  <tbody>\n",
       "    <tr>\n",
       "      <th>0</th>\n",
       "      <td>2.344766</td>\n",
       "      <td>0.982143</td>\n",
       "      <td>-0.974429</td>\n",
       "      <td>-0.049597</td>\n",
       "      <td>4.526</td>\n",
       "    </tr>\n",
       "    <tr>\n",
       "      <th>1</th>\n",
       "      <td>2.332238</td>\n",
       "      <td>-0.607019</td>\n",
       "      <td>0.861439</td>\n",
       "      <td>-0.092512</td>\n",
       "      <td>3.585</td>\n",
       "    </tr>\n",
       "    <tr>\n",
       "      <th>2</th>\n",
       "      <td>1.782699</td>\n",
       "      <td>1.856182</td>\n",
       "      <td>-0.820777</td>\n",
       "      <td>-0.025843</td>\n",
       "      <td>3.521</td>\n",
       "    </tr>\n",
       "    <tr>\n",
       "      <th>3</th>\n",
       "      <td>0.932968</td>\n",
       "      <td>1.856182</td>\n",
       "      <td>-0.766028</td>\n",
       "      <td>-0.050329</td>\n",
       "      <td>3.413</td>\n",
       "    </tr>\n",
       "    <tr>\n",
       "      <th>4</th>\n",
       "      <td>-0.012881</td>\n",
       "      <td>1.856182</td>\n",
       "      <td>-0.759847</td>\n",
       "      <td>-0.085616</td>\n",
       "      <td>3.422</td>\n",
       "    </tr>\n",
       "  </tbody>\n",
       "</table>\n",
       "</div>"
      ],
      "text/plain": [
       "     MedInc  HouseAge  Population  AveOccup  MedHouseVal\n",
       "0  2.344766  0.982143   -0.974429 -0.049597        4.526\n",
       "1  2.332238 -0.607019    0.861439 -0.092512        3.585\n",
       "2  1.782699  1.856182   -0.820777 -0.025843        3.521\n",
       "3  0.932968  1.856182   -0.766028 -0.050329        3.413\n",
       "4 -0.012881  1.856182   -0.759847 -0.085616        3.422"
      ]
     },
     "execution_count": 68,
     "metadata": {},
     "output_type": "execute_result"
    }
   ],
   "source": [
    "# create a new  Dataframe  with scaled features\n",
    "data_scaled = pd.DataFrame(scaled_features,columns=feature_to_keep)\n",
    "data_scaled[\"MedHouseVal\"]= housing_df[\"MedHouseVal\"]\n",
    "data_scaled.head()"
   ]
  },
  {
   "cell_type": "code",
   "execution_count": 70,
   "id": "85c29168-c24e-4b24-bc7c-ad529c4dce72",
   "metadata": {},
   "outputs": [
    {
     "data": {
      "text/html": [
       "<div>\n",
       "<style scoped>\n",
       "    .dataframe tbody tr th:only-of-type {\n",
       "        vertical-align: middle;\n",
       "    }\n",
       "\n",
       "    .dataframe tbody tr th {\n",
       "        vertical-align: top;\n",
       "    }\n",
       "\n",
       "    .dataframe thead th {\n",
       "        text-align: right;\n",
       "    }\n",
       "</style>\n",
       "<table border=\"1\" class=\"dataframe\">\n",
       "  <thead>\n",
       "    <tr style=\"text-align: right;\">\n",
       "      <th></th>\n",
       "      <th>MedInc</th>\n",
       "      <th>HouseAge</th>\n",
       "      <th>Population</th>\n",
       "      <th>AveOccup</th>\n",
       "      <th>MedHouseVal</th>\n",
       "    </tr>\n",
       "  </thead>\n",
       "  <tbody>\n",
       "    <tr>\n",
       "      <th>0</th>\n",
       "      <td>0.628559</td>\n",
       "      <td>-0.153758</td>\n",
       "      <td>1.052548</td>\n",
       "      <td>-1.327835</td>\n",
       "      <td>4.526</td>\n",
       "    </tr>\n",
       "    <tr>\n",
       "      <th>1</th>\n",
       "      <td>0.327041</td>\n",
       "      <td>-0.263336</td>\n",
       "      <td>1.043185</td>\n",
       "      <td>-1.322844</td>\n",
       "      <td>3.585</td>\n",
       "    </tr>\n",
       "    <tr>\n",
       "      <th>2</th>\n",
       "      <td>1.155620</td>\n",
       "      <td>-0.049016</td>\n",
       "      <td>1.038503</td>\n",
       "      <td>-1.332827</td>\n",
       "      <td>3.521</td>\n",
       "    </tr>\n",
       "    <tr>\n",
       "      <th>3</th>\n",
       "      <td>0.156966</td>\n",
       "      <td>-0.049833</td>\n",
       "      <td>1.038503</td>\n",
       "      <td>-1.337818</td>\n",
       "      <td>3.413</td>\n",
       "    </tr>\n",
       "    <tr>\n",
       "      <th>4</th>\n",
       "      <td>0.344711</td>\n",
       "      <td>-0.032906</td>\n",
       "      <td>1.038503</td>\n",
       "      <td>-1.337818</td>\n",
       "      <td>3.422</td>\n",
       "    </tr>\n",
       "  </tbody>\n",
       "</table>\n",
       "</div>"
      ],
      "text/plain": [
       "     MedInc  HouseAge  Population  AveOccup  MedHouseVal\n",
       "0  0.628559 -0.153758    1.052548 -1.327835        4.526\n",
       "1  0.327041 -0.263336    1.043185 -1.322844        3.585\n",
       "2  1.155620 -0.049016    1.038503 -1.332827        3.521\n",
       "3  0.156966 -0.049833    1.038503 -1.337818        3.413\n",
       "4  0.344711 -0.032906    1.038503 -1.337818        3.422"
      ]
     },
     "execution_count": 70,
     "metadata": {},
     "output_type": "execute_result"
    }
   ],
   "source": [
    "from sklearn.preprocessing import StandardScaler\n",
    "\n",
    "scaler = StandardScaler()\n",
    "\n",
    "droped_feature = feature_to_keep+ target_feature\n",
    "scaled_features = scaler.fit_transform(housing_df.drop(droped_feature,axis=1))\n",
    "\n",
    "# create a new  dataframe with  Scaled features \n",
    "data_scaled = pd.DataFrame(scaled_features,columns=feature_to_keep)\n",
    "data_scaled[\"MedHouseVal\"] = housing_df['MedHouseVal']\n",
    "data_scaled.head()"
   ]
  },
  {
   "cell_type": "markdown",
   "id": "69338258-1c79-46ed-a957-320cb3ecfb5a",
   "metadata": {},
   "source": [
    "**Step-4: Divide the data into Input(X) and Output(Y)**"
   ]
  },
  {
   "cell_type": "code",
   "execution_count": 73,
   "id": "98f6706e-be0d-43c4-b908-7846e6fa4d5a",
   "metadata": {},
   "outputs": [],
   "source": [
    "X = data_scaled.drop(\"MedHouseVal\",axis=1)\n",
    "y = data_scaled['MedHouseVal']"
   ]
  },
  {
   "cell_type": "markdown",
   "id": "c5d37b1f-01be-4264-9e78-abdeded5383f",
   "metadata": {},
   "source": [
    "**Step-5: Divide the data into train test split**\n",
    "\n",
    "- Package name: sklearn\n",
    "\n",
    "- class name: model selection\n",
    "\n",
    "- Method name: train test split"
   ]
  },
  {
   "cell_type": "code",
   "execution_count": 76,
   "id": "9ed5b23f-55cd-4bd1-9b62-faf3db3e1d62",
   "metadata": {},
   "outputs": [],
   "source": [
    "from sklearn.model_selection import train_test_split\n",
    "X_train, X_test, y_train, y_test = train_test_split(X,y,test_size=0.2,random_state=1234)\n"
   ]
  },
  {
   "cell_type": "markdown",
   "id": "08b85b06-1b8d-420a-a565-e76778b7a690",
   "metadata": {},
   "source": [
    "Quick Check\n",
    "-"
   ]
  },
  {
   "cell_type": "markdown",
   "id": "6bf29187-35b5-49a7-9f80-339c410d7844",
   "metadata": {},
   "source": [
    "**Check point 1**\n",
    "- Origenal data shape\n",
    "\n",
    "- X_train shape and X_test shape\n",
    "\n",
    "- cheak the rows and columns"
   ]
  },
  {
   "cell_type": "code",
   "execution_count": 80,
   "id": "8f88baf7-1692-4095-ac32-f320cb14cbcc",
   "metadata": {},
   "outputs": [
    {
     "data": {
      "text/plain": [
       "((20640, 5), (16512, 4), (4128, 4))"
      ]
     },
     "execution_count": 80,
     "metadata": {},
     "output_type": "execute_result"
    }
   ],
   "source": [
    "data_scaled.shape,X_train.shape,X_test.shape"
   ]
  },
  {
   "cell_type": "markdown",
   "id": "7680b2ef-8267-4215-9a23-9905a1e4f3a5",
   "metadata": {},
   "source": [
    "**Check point-2**\n",
    "\n",
    "- X_train rows should match with y_train rows count\n",
    "\n",
    "- X_test rows should match with y_test rows count"
   ]
  },
  {
   "cell_type": "code",
   "execution_count": 83,
   "id": "03a62ff5-65c6-46ef-a89a-6399b427f3c1",
   "metadata": {},
   "outputs": [
    {
     "data": {
      "text/plain": [
       "((16512, 4), (16512,))"
      ]
     },
     "execution_count": 83,
     "metadata": {},
     "output_type": "execute_result"
    }
   ],
   "source": [
    "X_train.shape,y_train.shape"
   ]
  },
  {
   "cell_type": "code",
   "execution_count": 85,
   "id": "7ba8f97b-475f-4323-b839-61f377787028",
   "metadata": {},
   "outputs": [
    {
     "data": {
      "text/plain": [
       "((4128, 4), (4128,))"
      ]
     },
     "execution_count": 85,
     "metadata": {},
     "output_type": "execute_result"
    }
   ],
   "source": [
    "X_test.shape,y_test.shape"
   ]
  },
  {
   "cell_type": "markdown",
   "id": "05664fc8-3835-4c32-a95f-b4c4e840a454",
   "metadata": {},
   "source": [
    "**Check point -3**\n",
    "\n",
    "- read the X_train and y_train and check the index"
   ]
  },
  {
   "cell_type": "code",
   "execution_count": 88,
   "id": "fb46c3c5-326b-4d76-a0ea-3e256ff230ae",
   "metadata": {},
   "outputs": [
    {
     "data": {
      "text/html": [
       "<div>\n",
       "<style scoped>\n",
       "    .dataframe tbody tr th:only-of-type {\n",
       "        vertical-align: middle;\n",
       "    }\n",
       "\n",
       "    .dataframe tbody tr th {\n",
       "        vertical-align: top;\n",
       "    }\n",
       "\n",
       "    .dataframe thead th {\n",
       "        text-align: right;\n",
       "    }\n",
       "</style>\n",
       "<table border=\"1\" class=\"dataframe\">\n",
       "  <thead>\n",
       "    <tr style=\"text-align: right;\">\n",
       "      <th></th>\n",
       "      <th>MedInc</th>\n",
       "      <th>HouseAge</th>\n",
       "      <th>Population</th>\n",
       "      <th>AveOccup</th>\n",
       "    </tr>\n",
       "  </thead>\n",
       "  <tbody>\n",
       "    <tr>\n",
       "      <th>0</th>\n",
       "      <td>0.628559</td>\n",
       "      <td>-0.153758</td>\n",
       "      <td>1.052548</td>\n",
       "      <td>-1.327835</td>\n",
       "    </tr>\n",
       "    <tr>\n",
       "      <th>1</th>\n",
       "      <td>0.327041</td>\n",
       "      <td>-0.263336</td>\n",
       "      <td>1.043185</td>\n",
       "      <td>-1.322844</td>\n",
       "    </tr>\n",
       "    <tr>\n",
       "      <th>2</th>\n",
       "      <td>1.155620</td>\n",
       "      <td>-0.049016</td>\n",
       "      <td>1.038503</td>\n",
       "      <td>-1.332827</td>\n",
       "    </tr>\n",
       "    <tr>\n",
       "      <th>3</th>\n",
       "      <td>0.156966</td>\n",
       "      <td>-0.049833</td>\n",
       "      <td>1.038503</td>\n",
       "      <td>-1.337818</td>\n",
       "    </tr>\n",
       "    <tr>\n",
       "      <th>4</th>\n",
       "      <td>0.344711</td>\n",
       "      <td>-0.032906</td>\n",
       "      <td>1.038503</td>\n",
       "      <td>-1.337818</td>\n",
       "    </tr>\n",
       "  </tbody>\n",
       "</table>\n",
       "</div>"
      ],
      "text/plain": [
       "     MedInc  HouseAge  Population  AveOccup\n",
       "0  0.628559 -0.153758    1.052548 -1.327835\n",
       "1  0.327041 -0.263336    1.043185 -1.322844\n",
       "2  1.155620 -0.049016    1.038503 -1.332827\n",
       "3  0.156966 -0.049833    1.038503 -1.337818\n",
       "4  0.344711 -0.032906    1.038503 -1.337818"
      ]
     },
     "execution_count": 88,
     "metadata": {},
     "output_type": "execute_result"
    }
   ],
   "source": [
    "X.head()"
   ]
  },
  {
   "cell_type": "code",
   "execution_count": 90,
   "id": "b99ebb7b-1236-41d4-b57f-29f929dc826b",
   "metadata": {},
   "outputs": [
    {
     "data": {
      "text/plain": [
       "0    4.526\n",
       "1    3.585\n",
       "2    3.521\n",
       "3    3.413\n",
       "4    3.422\n",
       "Name: MedHouseVal, dtype: float64"
      ]
     },
     "execution_count": 90,
     "metadata": {},
     "output_type": "execute_result"
    }
   ],
   "source": [
    "y.head()"
   ]
  },
  {
   "cell_type": "markdown",
   "id": "fb737891-0121-41d0-90e9-011501f278a3",
   "metadata": {},
   "source": [
    "**Step-6: Model development**\n",
    "\n",
    "- model develop by only train data\n",
    "\n",
    "- X_train and y_train\n",
    "\n",
    "- package name: sklearn\n",
    "\n",
    "- class name: linear_model\n",
    "\n",
    "- method_name : LinearRegression"
   ]
  },
  {
   "cell_type": "code",
   "execution_count": 93,
   "id": "893f40a4-5626-4bcb-8f89-2f01cbd1f1df",
   "metadata": {},
   "outputs": [
    {
     "data": {
      "text/html": [
       "<style>#sk-container-id-1 {\n",
       "  /* Definition of color scheme common for light and dark mode */\n",
       "  --sklearn-color-text: black;\n",
       "  --sklearn-color-line: gray;\n",
       "  /* Definition of color scheme for unfitted estimators */\n",
       "  --sklearn-color-unfitted-level-0: #fff5e6;\n",
       "  --sklearn-color-unfitted-level-1: #f6e4d2;\n",
       "  --sklearn-color-unfitted-level-2: #ffe0b3;\n",
       "  --sklearn-color-unfitted-level-3: chocolate;\n",
       "  /* Definition of color scheme for fitted estimators */\n",
       "  --sklearn-color-fitted-level-0: #f0f8ff;\n",
       "  --sklearn-color-fitted-level-1: #d4ebff;\n",
       "  --sklearn-color-fitted-level-2: #b3dbfd;\n",
       "  --sklearn-color-fitted-level-3: cornflowerblue;\n",
       "\n",
       "  /* Specific color for light theme */\n",
       "  --sklearn-color-text-on-default-background: var(--sg-text-color, var(--theme-code-foreground, var(--jp-content-font-color1, black)));\n",
       "  --sklearn-color-background: var(--sg-background-color, var(--theme-background, var(--jp-layout-color0, white)));\n",
       "  --sklearn-color-border-box: var(--sg-text-color, var(--theme-code-foreground, var(--jp-content-font-color1, black)));\n",
       "  --sklearn-color-icon: #696969;\n",
       "\n",
       "  @media (prefers-color-scheme: dark) {\n",
       "    /* Redefinition of color scheme for dark theme */\n",
       "    --sklearn-color-text-on-default-background: var(--sg-text-color, var(--theme-code-foreground, var(--jp-content-font-color1, white)));\n",
       "    --sklearn-color-background: var(--sg-background-color, var(--theme-background, var(--jp-layout-color0, #111)));\n",
       "    --sklearn-color-border-box: var(--sg-text-color, var(--theme-code-foreground, var(--jp-content-font-color1, white)));\n",
       "    --sklearn-color-icon: #878787;\n",
       "  }\n",
       "}\n",
       "\n",
       "#sk-container-id-1 {\n",
       "  color: var(--sklearn-color-text);\n",
       "}\n",
       "\n",
       "#sk-container-id-1 pre {\n",
       "  padding: 0;\n",
       "}\n",
       "\n",
       "#sk-container-id-1 input.sk-hidden--visually {\n",
       "  border: 0;\n",
       "  clip: rect(1px 1px 1px 1px);\n",
       "  clip: rect(1px, 1px, 1px, 1px);\n",
       "  height: 1px;\n",
       "  margin: -1px;\n",
       "  overflow: hidden;\n",
       "  padding: 0;\n",
       "  position: absolute;\n",
       "  width: 1px;\n",
       "}\n",
       "\n",
       "#sk-container-id-1 div.sk-dashed-wrapped {\n",
       "  border: 1px dashed var(--sklearn-color-line);\n",
       "  margin: 0 0.4em 0.5em 0.4em;\n",
       "  box-sizing: border-box;\n",
       "  padding-bottom: 0.4em;\n",
       "  background-color: var(--sklearn-color-background);\n",
       "}\n",
       "\n",
       "#sk-container-id-1 div.sk-container {\n",
       "  /* jupyter's `normalize.less` sets `[hidden] { display: none; }`\n",
       "     but bootstrap.min.css set `[hidden] { display: none !important; }`\n",
       "     so we also need the `!important` here to be able to override the\n",
       "     default hidden behavior on the sphinx rendered scikit-learn.org.\n",
       "     See: https://github.com/scikit-learn/scikit-learn/issues/21755 */\n",
       "  display: inline-block !important;\n",
       "  position: relative;\n",
       "}\n",
       "\n",
       "#sk-container-id-1 div.sk-text-repr-fallback {\n",
       "  display: none;\n",
       "}\n",
       "\n",
       "div.sk-parallel-item,\n",
       "div.sk-serial,\n",
       "div.sk-item {\n",
       "  /* draw centered vertical line to link estimators */\n",
       "  background-image: linear-gradient(var(--sklearn-color-text-on-default-background), var(--sklearn-color-text-on-default-background));\n",
       "  background-size: 2px 100%;\n",
       "  background-repeat: no-repeat;\n",
       "  background-position: center center;\n",
       "}\n",
       "\n",
       "/* Parallel-specific style estimator block */\n",
       "\n",
       "#sk-container-id-1 div.sk-parallel-item::after {\n",
       "  content: \"\";\n",
       "  width: 100%;\n",
       "  border-bottom: 2px solid var(--sklearn-color-text-on-default-background);\n",
       "  flex-grow: 1;\n",
       "}\n",
       "\n",
       "#sk-container-id-1 div.sk-parallel {\n",
       "  display: flex;\n",
       "  align-items: stretch;\n",
       "  justify-content: center;\n",
       "  background-color: var(--sklearn-color-background);\n",
       "  position: relative;\n",
       "}\n",
       "\n",
       "#sk-container-id-1 div.sk-parallel-item {\n",
       "  display: flex;\n",
       "  flex-direction: column;\n",
       "}\n",
       "\n",
       "#sk-container-id-1 div.sk-parallel-item:first-child::after {\n",
       "  align-self: flex-end;\n",
       "  width: 50%;\n",
       "}\n",
       "\n",
       "#sk-container-id-1 div.sk-parallel-item:last-child::after {\n",
       "  align-self: flex-start;\n",
       "  width: 50%;\n",
       "}\n",
       "\n",
       "#sk-container-id-1 div.sk-parallel-item:only-child::after {\n",
       "  width: 0;\n",
       "}\n",
       "\n",
       "/* Serial-specific style estimator block */\n",
       "\n",
       "#sk-container-id-1 div.sk-serial {\n",
       "  display: flex;\n",
       "  flex-direction: column;\n",
       "  align-items: center;\n",
       "  background-color: var(--sklearn-color-background);\n",
       "  padding-right: 1em;\n",
       "  padding-left: 1em;\n",
       "}\n",
       "\n",
       "\n",
       "/* Toggleable style: style used for estimator/Pipeline/ColumnTransformer box that is\n",
       "clickable and can be expanded/collapsed.\n",
       "- Pipeline and ColumnTransformer use this feature and define the default style\n",
       "- Estimators will overwrite some part of the style using the `sk-estimator` class\n",
       "*/\n",
       "\n",
       "/* Pipeline and ColumnTransformer style (default) */\n",
       "\n",
       "#sk-container-id-1 div.sk-toggleable {\n",
       "  /* Default theme specific background. It is overwritten whether we have a\n",
       "  specific estimator or a Pipeline/ColumnTransformer */\n",
       "  background-color: var(--sklearn-color-background);\n",
       "}\n",
       "\n",
       "/* Toggleable label */\n",
       "#sk-container-id-1 label.sk-toggleable__label {\n",
       "  cursor: pointer;\n",
       "  display: block;\n",
       "  width: 100%;\n",
       "  margin-bottom: 0;\n",
       "  padding: 0.5em;\n",
       "  box-sizing: border-box;\n",
       "  text-align: center;\n",
       "}\n",
       "\n",
       "#sk-container-id-1 label.sk-toggleable__label-arrow:before {\n",
       "  /* Arrow on the left of the label */\n",
       "  content: \"▸\";\n",
       "  float: left;\n",
       "  margin-right: 0.25em;\n",
       "  color: var(--sklearn-color-icon);\n",
       "}\n",
       "\n",
       "#sk-container-id-1 label.sk-toggleable__label-arrow:hover:before {\n",
       "  color: var(--sklearn-color-text);\n",
       "}\n",
       "\n",
       "/* Toggleable content - dropdown */\n",
       "\n",
       "#sk-container-id-1 div.sk-toggleable__content {\n",
       "  max-height: 0;\n",
       "  max-width: 0;\n",
       "  overflow: hidden;\n",
       "  text-align: left;\n",
       "  /* unfitted */\n",
       "  background-color: var(--sklearn-color-unfitted-level-0);\n",
       "}\n",
       "\n",
       "#sk-container-id-1 div.sk-toggleable__content.fitted {\n",
       "  /* fitted */\n",
       "  background-color: var(--sklearn-color-fitted-level-0);\n",
       "}\n",
       "\n",
       "#sk-container-id-1 div.sk-toggleable__content pre {\n",
       "  margin: 0.2em;\n",
       "  border-radius: 0.25em;\n",
       "  color: var(--sklearn-color-text);\n",
       "  /* unfitted */\n",
       "  background-color: var(--sklearn-color-unfitted-level-0);\n",
       "}\n",
       "\n",
       "#sk-container-id-1 div.sk-toggleable__content.fitted pre {\n",
       "  /* unfitted */\n",
       "  background-color: var(--sklearn-color-fitted-level-0);\n",
       "}\n",
       "\n",
       "#sk-container-id-1 input.sk-toggleable__control:checked~div.sk-toggleable__content {\n",
       "  /* Expand drop-down */\n",
       "  max-height: 200px;\n",
       "  max-width: 100%;\n",
       "  overflow: auto;\n",
       "}\n",
       "\n",
       "#sk-container-id-1 input.sk-toggleable__control:checked~label.sk-toggleable__label-arrow:before {\n",
       "  content: \"▾\";\n",
       "}\n",
       "\n",
       "/* Pipeline/ColumnTransformer-specific style */\n",
       "\n",
       "#sk-container-id-1 div.sk-label input.sk-toggleable__control:checked~label.sk-toggleable__label {\n",
       "  color: var(--sklearn-color-text);\n",
       "  background-color: var(--sklearn-color-unfitted-level-2);\n",
       "}\n",
       "\n",
       "#sk-container-id-1 div.sk-label.fitted input.sk-toggleable__control:checked~label.sk-toggleable__label {\n",
       "  background-color: var(--sklearn-color-fitted-level-2);\n",
       "}\n",
       "\n",
       "/* Estimator-specific style */\n",
       "\n",
       "/* Colorize estimator box */\n",
       "#sk-container-id-1 div.sk-estimator input.sk-toggleable__control:checked~label.sk-toggleable__label {\n",
       "  /* unfitted */\n",
       "  background-color: var(--sklearn-color-unfitted-level-2);\n",
       "}\n",
       "\n",
       "#sk-container-id-1 div.sk-estimator.fitted input.sk-toggleable__control:checked~label.sk-toggleable__label {\n",
       "  /* fitted */\n",
       "  background-color: var(--sklearn-color-fitted-level-2);\n",
       "}\n",
       "\n",
       "#sk-container-id-1 div.sk-label label.sk-toggleable__label,\n",
       "#sk-container-id-1 div.sk-label label {\n",
       "  /* The background is the default theme color */\n",
       "  color: var(--sklearn-color-text-on-default-background);\n",
       "}\n",
       "\n",
       "/* On hover, darken the color of the background */\n",
       "#sk-container-id-1 div.sk-label:hover label.sk-toggleable__label {\n",
       "  color: var(--sklearn-color-text);\n",
       "  background-color: var(--sklearn-color-unfitted-level-2);\n",
       "}\n",
       "\n",
       "/* Label box, darken color on hover, fitted */\n",
       "#sk-container-id-1 div.sk-label.fitted:hover label.sk-toggleable__label.fitted {\n",
       "  color: var(--sklearn-color-text);\n",
       "  background-color: var(--sklearn-color-fitted-level-2);\n",
       "}\n",
       "\n",
       "/* Estimator label */\n",
       "\n",
       "#sk-container-id-1 div.sk-label label {\n",
       "  font-family: monospace;\n",
       "  font-weight: bold;\n",
       "  display: inline-block;\n",
       "  line-height: 1.2em;\n",
       "}\n",
       "\n",
       "#sk-container-id-1 div.sk-label-container {\n",
       "  text-align: center;\n",
       "}\n",
       "\n",
       "/* Estimator-specific */\n",
       "#sk-container-id-1 div.sk-estimator {\n",
       "  font-family: monospace;\n",
       "  border: 1px dotted var(--sklearn-color-border-box);\n",
       "  border-radius: 0.25em;\n",
       "  box-sizing: border-box;\n",
       "  margin-bottom: 0.5em;\n",
       "  /* unfitted */\n",
       "  background-color: var(--sklearn-color-unfitted-level-0);\n",
       "}\n",
       "\n",
       "#sk-container-id-1 div.sk-estimator.fitted {\n",
       "  /* fitted */\n",
       "  background-color: var(--sklearn-color-fitted-level-0);\n",
       "}\n",
       "\n",
       "/* on hover */\n",
       "#sk-container-id-1 div.sk-estimator:hover {\n",
       "  /* unfitted */\n",
       "  background-color: var(--sklearn-color-unfitted-level-2);\n",
       "}\n",
       "\n",
       "#sk-container-id-1 div.sk-estimator.fitted:hover {\n",
       "  /* fitted */\n",
       "  background-color: var(--sklearn-color-fitted-level-2);\n",
       "}\n",
       "\n",
       "/* Specification for estimator info (e.g. \"i\" and \"?\") */\n",
       "\n",
       "/* Common style for \"i\" and \"?\" */\n",
       "\n",
       ".sk-estimator-doc-link,\n",
       "a:link.sk-estimator-doc-link,\n",
       "a:visited.sk-estimator-doc-link {\n",
       "  float: right;\n",
       "  font-size: smaller;\n",
       "  line-height: 1em;\n",
       "  font-family: monospace;\n",
       "  background-color: var(--sklearn-color-background);\n",
       "  border-radius: 1em;\n",
       "  height: 1em;\n",
       "  width: 1em;\n",
       "  text-decoration: none !important;\n",
       "  margin-left: 1ex;\n",
       "  /* unfitted */\n",
       "  border: var(--sklearn-color-unfitted-level-1) 1pt solid;\n",
       "  color: var(--sklearn-color-unfitted-level-1);\n",
       "}\n",
       "\n",
       ".sk-estimator-doc-link.fitted,\n",
       "a:link.sk-estimator-doc-link.fitted,\n",
       "a:visited.sk-estimator-doc-link.fitted {\n",
       "  /* fitted */\n",
       "  border: var(--sklearn-color-fitted-level-1) 1pt solid;\n",
       "  color: var(--sklearn-color-fitted-level-1);\n",
       "}\n",
       "\n",
       "/* On hover */\n",
       "div.sk-estimator:hover .sk-estimator-doc-link:hover,\n",
       ".sk-estimator-doc-link:hover,\n",
       "div.sk-label-container:hover .sk-estimator-doc-link:hover,\n",
       ".sk-estimator-doc-link:hover {\n",
       "  /* unfitted */\n",
       "  background-color: var(--sklearn-color-unfitted-level-3);\n",
       "  color: var(--sklearn-color-background);\n",
       "  text-decoration: none;\n",
       "}\n",
       "\n",
       "div.sk-estimator.fitted:hover .sk-estimator-doc-link.fitted:hover,\n",
       ".sk-estimator-doc-link.fitted:hover,\n",
       "div.sk-label-container:hover .sk-estimator-doc-link.fitted:hover,\n",
       ".sk-estimator-doc-link.fitted:hover {\n",
       "  /* fitted */\n",
       "  background-color: var(--sklearn-color-fitted-level-3);\n",
       "  color: var(--sklearn-color-background);\n",
       "  text-decoration: none;\n",
       "}\n",
       "\n",
       "/* Span, style for the box shown on hovering the info icon */\n",
       ".sk-estimator-doc-link span {\n",
       "  display: none;\n",
       "  z-index: 9999;\n",
       "  position: relative;\n",
       "  font-weight: normal;\n",
       "  right: .2ex;\n",
       "  padding: .5ex;\n",
       "  margin: .5ex;\n",
       "  width: min-content;\n",
       "  min-width: 20ex;\n",
       "  max-width: 50ex;\n",
       "  color: var(--sklearn-color-text);\n",
       "  box-shadow: 2pt 2pt 4pt #999;\n",
       "  /* unfitted */\n",
       "  background: var(--sklearn-color-unfitted-level-0);\n",
       "  border: .5pt solid var(--sklearn-color-unfitted-level-3);\n",
       "}\n",
       "\n",
       ".sk-estimator-doc-link.fitted span {\n",
       "  /* fitted */\n",
       "  background: var(--sklearn-color-fitted-level-0);\n",
       "  border: var(--sklearn-color-fitted-level-3);\n",
       "}\n",
       "\n",
       ".sk-estimator-doc-link:hover span {\n",
       "  display: block;\n",
       "}\n",
       "\n",
       "/* \"?\"-specific style due to the `<a>` HTML tag */\n",
       "\n",
       "#sk-container-id-1 a.estimator_doc_link {\n",
       "  float: right;\n",
       "  font-size: 1rem;\n",
       "  line-height: 1em;\n",
       "  font-family: monospace;\n",
       "  background-color: var(--sklearn-color-background);\n",
       "  border-radius: 1rem;\n",
       "  height: 1rem;\n",
       "  width: 1rem;\n",
       "  text-decoration: none;\n",
       "  /* unfitted */\n",
       "  color: var(--sklearn-color-unfitted-level-1);\n",
       "  border: var(--sklearn-color-unfitted-level-1) 1pt solid;\n",
       "}\n",
       "\n",
       "#sk-container-id-1 a.estimator_doc_link.fitted {\n",
       "  /* fitted */\n",
       "  border: var(--sklearn-color-fitted-level-1) 1pt solid;\n",
       "  color: var(--sklearn-color-fitted-level-1);\n",
       "}\n",
       "\n",
       "/* On hover */\n",
       "#sk-container-id-1 a.estimator_doc_link:hover {\n",
       "  /* unfitted */\n",
       "  background-color: var(--sklearn-color-unfitted-level-3);\n",
       "  color: var(--sklearn-color-background);\n",
       "  text-decoration: none;\n",
       "}\n",
       "\n",
       "#sk-container-id-1 a.estimator_doc_link.fitted:hover {\n",
       "  /* fitted */\n",
       "  background-color: var(--sklearn-color-fitted-level-3);\n",
       "}\n",
       "</style><div id=\"sk-container-id-1\" class=\"sk-top-container\"><div class=\"sk-text-repr-fallback\"><pre>LinearRegression()</pre><b>In a Jupyter environment, please rerun this cell to show the HTML representation or trust the notebook. <br />On GitHub, the HTML representation is unable to render, please try loading this page with nbviewer.org.</b></div><div class=\"sk-container\" hidden><div class=\"sk-item\"><div class=\"sk-estimator fitted sk-toggleable\"><input class=\"sk-toggleable__control sk-hidden--visually\" id=\"sk-estimator-id-1\" type=\"checkbox\" checked><label for=\"sk-estimator-id-1\" class=\"sk-toggleable__label fitted sk-toggleable__label-arrow fitted\">&nbsp;&nbsp;LinearRegression<a class=\"sk-estimator-doc-link fitted\" rel=\"noreferrer\" target=\"_blank\" href=\"https://scikit-learn.org/1.4/modules/generated/sklearn.linear_model.LinearRegression.html\">?<span>Documentation for LinearRegression</span></a><span class=\"sk-estimator-doc-link fitted\">i<span>Fitted</span></span></label><div class=\"sk-toggleable__content fitted\"><pre>LinearRegression()</pre></div> </div></div></div></div>"
      ],
      "text/plain": [
       "LinearRegression()"
      ]
     },
     "execution_count": 93,
     "metadata": {},
     "output_type": "execute_result"
    }
   ],
   "source": [
    "from sklearn.linear_model import LinearRegression\n",
    "#train the model\n",
    "model = LinearRegression()\n",
    "model.fit(X_train,y_train)"
   ]
  },
  {
   "cell_type": "markdown",
   "id": "c2ddfcd0-b4e1-4050-aac9-de37b4bf1d7b",
   "metadata": {},
   "source": [
    "**Step-7: Model predictions**"
   ]
  },
  {
   "cell_type": "code",
   "execution_count": 96,
   "id": "32dd8192-80fe-4944-be90-da339a6b8788",
   "metadata": {},
   "outputs": [
    {
     "data": {
      "text/plain": [
       "array([2.41888549, 2.47737599, 2.46017044, ..., 0.66842483, 2.22901036,\n",
       "       1.56462426])"
      ]
     },
     "execution_count": 96,
     "metadata": {},
     "output_type": "execute_result"
    }
   ],
   "source": [
    "y_pred = model.predict(X_test)\n",
    "y_pred\n",
    "\n"
   ]
  },
  {
   "cell_type": "markdown",
   "id": "2d02e06d-84a4-4fcf-9f10-efd494ff9141",
   "metadata": {},
   "source": [
    "**Step-8-Check Assumptions of Linear Regression**\n",
    "\n",
    "- Linearity (features)\n",
    "\n",
    "- Independence of errors (errors)\n",
    "\n",
    "- Homoscedasticity(errors)\n",
    "\n",
    "- Normality of residuals(errors)\n",
    "\n",
    "- Multicollinearity(features)"
   ]
  },
  {
   "cell_type": "markdown",
   "id": "98dd423a-48ec-44b1-b3fb-63e866ddc94d",
   "metadata": {},
   "source": [
    "**Linearity**\n",
    "-"
   ]
  },
  {
   "cell_type": "code",
   "execution_count": 107,
   "id": "6e71beb3-3d60-41c5-8b0d-16a979ed48df",
   "metadata": {},
   "outputs": [
    {
     "data": {
      "image/png": "[encoded data removed]",
      "text/plain": [
       "<Figure size 640x480 with 1 Axes>"
      ]
     },
     "metadata": {},
     "output_type": "display_data"
    }
   ],
   "source": [
    "# Plot residuals vs. predicted values\n",
    "# train error\n",
    "\n",
    "preds = model.predict(X_train)\n",
    "residuals = y_train-preds # y_actual - y prediction\n",
    "\n",
    "plt.scatter(preds,residuals)\n",
    "plt.xlabel(\"Predicted values\")\n",
    "plt.ylabel(\"Residuals\")\n",
    "plt.title(\"Residuals vs. Predicted values\")\n",
    "plt.savefig('Residuals vs. Predicted values.png')\n",
    "plt.show()"
   ]
  },
  {
   "cell_type": "markdown",
   "id": "8189b024-5eb5-4359-8da1-028c2c83107b",
   "metadata": {},
   "source": [
    "**2. Independence of Errors**\r\n",
    "\r\n",
    "Definition:\r\n",
    "\r\n",
    "The residuals (errors) should be independent of each other. This means that there should be no correlation between the errors."
   ]
  },
  {
   "cell_type": "code",
   "execution_count": 110,
   "id": "9ce46a18-f684-4091-ba58-490cce971d29",
   "metadata": {},
   "outputs": [
    {
     "name": "stdout",
     "output_type": "stream",
     "text": [
      "Durbin-Watson statistic: 2.0069900308810227\n"
     ]
    }
   ],
   "source": [
    "from statsmodels.stats.stattools import durbin_watson\n",
    "dw_stat = durbin_watson(residuals)\n",
    "print(f\"Durbin-Watson statistic: {dw_stat}\")\n"
   ]
  },
  {
   "cell_type": "markdown",
   "id": "3908a732-7fa2-421b-b266-4fd95f03fed7",
   "metadata": {},
   "source": [
    "**3. Homoscedasticity**\r\n",
    "\r\n",
    "Definition:\r\n",
    "\r\n",
    "The residuals should have constant variance at every level of the independent variables. This means that the spread of residuals should be consistent across all levels of the independent variables."
   ]
  },
  {
   "cell_type": "markdown",
   "id": "b08075e0-bf67-4290-bb74-30e654cbe76e",
   "metadata": {},
   "source": [
    "**4. Normality of Residuals**\r\n",
    "\r\n",
    "Definition:\r\n",
    "\r\n",
    "The residuals should be approximately normally distributed."
   ]
  },
  {
   "cell_type": "code",
   "execution_count": 116,
   "id": "236a3c19-745d-4ab8-b66b-8904284515ba",
   "metadata": {},
   "outputs": [
    {
     "data": {
      "image/png": "[encoded data removed]",
      "text/plain": [
       "<Figure size 640x480 with 1 Axes>"
      ]
     },
     "metadata": {},
     "output_type": "display_data"
    },
    {
     "data": {
      "image/png": "[encoded data removed]",
      "text/plain": [
       "<Figure size 640x480 with 1 Axes>"
      ]
     },
     "metadata": {},
     "output_type": "display_data"
    }
   ],
   "source": [
    "import scipy.stats as stats \n",
    "\n",
    "# plot histogram of residuals \n",
    "\n",
    "plt.hist(residuals,bins = 30)\n",
    "plt.xlabel(\"Residuals\")\n",
    "plt.ylabel(\"Frequency\")\n",
    "plt.title(\"Histogram of Residuals\")\n",
    "plt.show()\n",
    "plt.savefig('Histogram of Residuals.png')\n",
    "\n",
    "# Q-Q plot\n",
    "stats.probplot(residuals, dist = \"norm\",plot=plt)\n",
    "plt.savefig('Q-Q Plot.png')\n",
    "plt.show()"
   ]
  },
  {
   "cell_type": "markdown",
   "id": "a0b2e671-1dec-43a0-bfc9-c385cc848318",
   "metadata": {},
   "source": [
    "**5. Multicollinearity**\n",
    "\n",
    "Definition:\n",
    "\n",
    "The independent variables should not be too highly correlated with each other. High multicollinearity means that one independent variable can be linearly predicted from the others with a substantial degree of accuracy."
   ]
  },
  {
   "cell_type": "markdown",
   "id": "1ad2a282-ec99-451f-801f-44de072d8178",
   "metadata": {},
   "source": [
    "**Step-9: Model evaluation**"
   ]
  },
  {
   "cell_type": "code",
   "execution_count": 120,
   "id": "eb90bce4-7676-4fbf-a68e-66efd1f268dd",
   "metadata": {},
   "outputs": [
    {
     "data": {
      "text/plain": [
       "array([2.41888549, 2.47737599, 2.46017044, ..., 0.66842483, 2.22901036,\n",
       "       1.56462426])"
      ]
     },
     "execution_count": 120,
     "metadata": {},
     "output_type": "execute_result"
    }
   ],
   "source": [
    "y_pred = model.predict(X_test)\n",
    "y_pred"
   ]
  },
  {
   "cell_type": "code",
   "execution_count": 122,
   "id": "49e44972-a465-473e-8175-e2ba0c6167ff",
   "metadata": {},
   "outputs": [
    {
     "data": {
      "text/plain": [
       "(4128, 4128, 4128)"
      ]
     },
     "execution_count": 122,
     "metadata": {},
     "output_type": "execute_result"
    }
   ],
   "source": [
    "len(X_test),len(y_test),len(y_pred)"
   ]
  },
  {
   "cell_type": "code",
   "execution_count": 124,
   "id": "036516df-a01b-4e6e-b4e8-8ed54f00e8c0",
   "metadata": {},
   "outputs": [
    {
     "name": "stdout",
     "output_type": "stream",
     "text": [
      "[2.41888549 2.47737599 2.46017044 2.41815573 2.78421767]\n",
      "[5.    2.939 4.125 1.576 3.041]\n"
     ]
    }
   ],
   "source": [
    "print(y_pred[:5])# prediction \n",
    "print(y_test.values[:5])#actual"
   ]
  },
  {
   "cell_type": "code",
   "execution_count": 126,
   "id": "a1722157-e695-49f8-b945-948733c4dc3c",
   "metadata": {},
   "outputs": [
    {
     "name": "stdout",
     "output_type": "stream",
     "text": [
      "MSE:  0.8444047034959511\n",
      "RMSE:  0.9189149598825515\n"
     ]
    }
   ],
   "source": [
    "X_train, X_test, y_train, y_test = train_test_split(X, y, test_size=0.2, random_state=1234)\n",
    "df=X_test\n",
    "df[\"Y_actual\"]=y_test\n",
    "df[\"Y_prediction\"] = y_pred\n",
    "df['Error']= df[\"Y_actual\"] - df[\"Y_prediction\"]\n",
    "df[\"Error_square\"] = df[\"Error\"]**2\n",
    "mse = np.sum(df[\"Error_square\"] )/len(X_test)\n",
    "rmse = np.sqrt(mse)\n",
    "print(\"MSE: \",mse)\n",
    "print(\"RMSE: \",rmse)"
   ]
  },
  {
   "cell_type": "code",
   "execution_count": 128,
   "id": "5ed63054-47a4-43aa-91e8-2a006824357e",
   "metadata": {},
   "outputs": [
    {
     "data": {
      "text/html": [
       "<div>\n",
       "<style scoped>\n",
       "    .dataframe tbody tr th:only-of-type {\n",
       "        vertical-align: middle;\n",
       "    }\n",
       "\n",
       "    .dataframe tbody tr th {\n",
       "        vertical-align: top;\n",
       "    }\n",
       "\n",
       "    .dataframe thead th {\n",
       "        text-align: right;\n",
       "    }\n",
       "</style>\n",
       "<table border=\"1\" class=\"dataframe\">\n",
       "  <thead>\n",
       "    <tr style=\"text-align: right;\">\n",
       "      <th></th>\n",
       "      <th>MedInc</th>\n",
       "      <th>HouseAge</th>\n",
       "      <th>Population</th>\n",
       "      <th>AveOccup</th>\n",
       "      <th>Y_actual</th>\n",
       "      <th>Y_prediction</th>\n",
       "      <th>Error</th>\n",
       "      <th>Error_square</th>\n",
       "    </tr>\n",
       "  </thead>\n",
       "  <tbody>\n",
       "    <tr>\n",
       "      <th>15712</th>\n",
       "      <td>-0.234704</td>\n",
       "      <td>-0.038032</td>\n",
       "      <td>1.010411</td>\n",
       "      <td>-1.432653</td>\n",
       "      <td>5.00000</td>\n",
       "      <td>2.418885</td>\n",
       "      <td>2.581115</td>\n",
       "      <td>6.662152</td>\n",
       "    </tr>\n",
       "    <tr>\n",
       "      <th>4119</th>\n",
       "      <td>0.282943</td>\n",
       "      <td>-0.115509</td>\n",
       "      <td>-0.698469</td>\n",
       "      <td>0.683662</td>\n",
       "      <td>2.93900</td>\n",
       "      <td>2.477376</td>\n",
       "      <td>0.461624</td>\n",
       "      <td>0.213097</td>\n",
       "    </tr>\n",
       "    <tr>\n",
       "      <th>15725</th>\n",
       "      <td>-0.278781</td>\n",
       "      <td>-0.152216</td>\n",
       "      <td>1.005730</td>\n",
       "      <td>-1.432653</td>\n",
       "      <td>4.12500</td>\n",
       "      <td>2.460170</td>\n",
       "      <td>1.664830</td>\n",
       "      <td>2.771657</td>\n",
       "    </tr>\n",
       "    <tr>\n",
       "      <th>14616</th>\n",
       "      <td>-0.062546</td>\n",
       "      <td>-0.133136</td>\n",
       "      <td>-1.325839</td>\n",
       "      <td>1.197766</td>\n",
       "      <td>1.57600</td>\n",
       "      <td>2.418156</td>\n",
       "      <td>-0.842156</td>\n",
       "      <td>0.709226</td>\n",
       "    </tr>\n",
       "    <tr>\n",
       "      <th>13238</th>\n",
       "      <td>1.045992</td>\n",
       "      <td>-0.162391</td>\n",
       "      <td>-0.703151</td>\n",
       "      <td>0.948201</td>\n",
       "      <td>3.04100</td>\n",
       "      <td>2.784218</td>\n",
       "      <td>0.256782</td>\n",
       "      <td>0.065937</td>\n",
       "    </tr>\n",
       "    <tr>\n",
       "      <th>...</th>\n",
       "      <td>...</td>\n",
       "      <td>...</td>\n",
       "      <td>...</td>\n",
       "      <td>...</td>\n",
       "      <td>...</td>\n",
       "      <td>...</td>\n",
       "      <td>...</td>\n",
       "      <td>...</td>\n",
       "    </tr>\n",
       "    <tr>\n",
       "      <th>13521</th>\n",
       "      <td>0.299587</td>\n",
       "      <td>-0.282569</td>\n",
       "      <td>-0.651651</td>\n",
       "      <td>1.077975</td>\n",
       "      <td>1.64300</td>\n",
       "      <td>1.933213</td>\n",
       "      <td>-0.290213</td>\n",
       "      <td>0.084224</td>\n",
       "    </tr>\n",
       "    <tr>\n",
       "      <th>16913</th>\n",
       "      <td>1.390417</td>\n",
       "      <td>-0.145384</td>\n",
       "      <td>0.898047</td>\n",
       "      <td>-1.382740</td>\n",
       "      <td>5.00001</td>\n",
       "      <td>4.008368</td>\n",
       "      <td>0.991642</td>\n",
       "      <td>0.983354</td>\n",
       "    </tr>\n",
       "    <tr>\n",
       "      <th>20069</th>\n",
       "      <td>-0.138627</td>\n",
       "      <td>0.159038</td>\n",
       "      <td>1.113413</td>\n",
       "      <td>-0.399452</td>\n",
       "      <td>1.23200</td>\n",
       "      <td>0.668425</td>\n",
       "      <td>0.563575</td>\n",
       "      <td>0.317617</td>\n",
       "    </tr>\n",
       "    <tr>\n",
       "      <th>446</th>\n",
       "      <td>-0.421058</td>\n",
       "      <td>-0.266063</td>\n",
       "      <td>1.047866</td>\n",
       "      <td>-1.357783</td>\n",
       "      <td>1.82600</td>\n",
       "      <td>2.229010</td>\n",
       "      <td>-0.403010</td>\n",
       "      <td>0.162417</td>\n",
       "    </tr>\n",
       "    <tr>\n",
       "      <th>2209</th>\n",
       "      <td>-0.026645</td>\n",
       "      <td>-0.301391</td>\n",
       "      <td>0.551589</td>\n",
       "      <td>-0.139904</td>\n",
       "      <td>0.68000</td>\n",
       "      <td>1.564624</td>\n",
       "      <td>-0.884624</td>\n",
       "      <td>0.782560</td>\n",
       "    </tr>\n",
       "  </tbody>\n",
       "</table>\n",
       "<p>4128 rows × 8 columns</p>\n",
       "</div>"
      ],
      "text/plain": [
       "         MedInc  HouseAge  Population  AveOccup  Y_actual  Y_prediction  \\\n",
       "15712 -0.234704 -0.038032    1.010411 -1.432653   5.00000      2.418885   \n",
       "4119   0.282943 -0.115509   -0.698469  0.683662   2.93900      2.477376   \n",
       "15725 -0.278781 -0.152216    1.005730 -1.432653   4.12500      2.460170   \n",
       "14616 -0.062546 -0.133136   -1.325839  1.197766   1.57600      2.418156   \n",
       "13238  1.045992 -0.162391   -0.703151  0.948201   3.04100      2.784218   \n",
       "...         ...       ...         ...       ...       ...           ...   \n",
       "13521  0.299587 -0.282569   -0.651651  1.077975   1.64300      1.933213   \n",
       "16913  1.390417 -0.145384    0.898047 -1.382740   5.00001      4.008368   \n",
       "20069 -0.138627  0.159038    1.113413 -0.399452   1.23200      0.668425   \n",
       "446   -0.421058 -0.266063    1.047866 -1.357783   1.82600      2.229010   \n",
       "2209  -0.026645 -0.301391    0.551589 -0.139904   0.68000      1.564624   \n",
       "\n",
       "          Error  Error_square  \n",
       "15712  2.581115      6.662152  \n",
       "4119   0.461624      0.213097  \n",
       "15725  1.664830      2.771657  \n",
       "14616 -0.842156      0.709226  \n",
       "13238  0.256782      0.065937  \n",
       "...         ...           ...  \n",
       "13521 -0.290213      0.084224  \n",
       "16913  0.991642      0.983354  \n",
       "20069  0.563575      0.317617  \n",
       "446   -0.403010      0.162417  \n",
       "2209  -0.884624      0.782560  \n",
       "\n",
       "[4128 rows x 8 columns]"
      ]
     },
     "execution_count": 128,
     "metadata": {},
     "output_type": "execute_result"
    }
   ],
   "source": [
    "X_test"
   ]
  },
  {
   "cell_type": "code",
   "execution_count": 130,
   "id": "b8dddd63-5626-442b-9abf-f3e44e9c9326",
   "metadata": {},
   "outputs": [
    {
     "name": "stdout",
     "output_type": "stream",
     "text": [
      "MAE: 0.6834826107665013\n",
      "MSE: 0.8444047034959511\n",
      "RMSE: 0.9189149598825515\n",
      "R-squared: 0.37581556067136934\n"
     ]
    }
   ],
   "source": [
    "from sklearn.metrics import mean_absolute_error, mean_squared_error, r2_score\n",
    "# Predict on test data\n",
    "X_train, X_test, y_train, y_test = train_test_split(X, y, test_size=0.2, random_state=1234)\n",
    "y_pred = model.predict(X_test)\n",
    "# Calculate metrics\n",
    "mae = mean_absolute_error(y_test, y_pred)\n",
    "mse = mean_squared_error(y_test, y_pred)\n",
    "rmse = np.sqrt(mse)\n",
    "r2 = r2_score(y_test, y_pred)\n",
    "\n",
    "print(f'MAE: {mae}')\n",
    "print(f'MSE: {mse}')\n",
    "print(f'RMSE: {rmse}')\n",
    "print(f'R-squared: {r2}')\n"
   ]
  },
  {
   "cell_type": "markdown",
   "id": "6da23589-6055-4627-9fa9-f3e4120d0f67",
   "metadata": {},
   "source": [
    "**Step-10:Save The model**\n",
    "\n",
    "1) Using pickle\n",
    "\n",
    "    - Save the model\n",
    "\n",
    "    - It is similar to python read text and write text\n",
    "\n",
    "    - open (filename.txt,'w')\n",
    "\n",
    "    - pickle.dump(model,open('modelname.pkl','wb'))"
   ]
  },
  {
   "cell_type": "code",
   "execution_count": 133,
   "id": "55121637-d021-42a1-a5c8-937fbcd7fde5",
   "metadata": {},
   "outputs": [],
   "source": [
    "import pickle\n",
    "pickle.dump(model,\n",
    "            open('house_model.pkl','wb'))\n",
    "\n",
    "#Model name=model\n",
    "#In which name the model is saving: house_model\n",
    "# extenstion:.pkl\n",
    "# wb: write in bytes"
   ]
  },
  {
   "cell_type": "markdown",
   "id": "70614b3a-9f34-422d-9e1e-894862cbc10a",
   "metadata": {},
   "source": [
    "**Step-11:\r\n",
    "Load the mod**el- \r\n",
    "\r\n",
    "open('filename.txt','r- ')\r\n",
    "\r\n",
    "pickle.load(open('modelname.pkl','b'))\r\n",
    "\r\n"
   ]
  },
  {
   "cell_type": "code",
   "execution_count": 136,
   "id": "fd067a6d-9417-483c-b526-f61d9a28d717",
   "metadata": {},
   "outputs": [
    {
     "data": {
      "text/html": [
       "<style>#sk-container-id-2 {\n",
       "  /* Definition of color scheme common for light and dark mode */\n",
       "  --sklearn-color-text: black;\n",
       "  --sklearn-color-line: gray;\n",
       "  /* Definition of color scheme for unfitted estimators */\n",
       "  --sklearn-color-unfitted-level-0: #fff5e6;\n",
       "  --sklearn-color-unfitted-level-1: #f6e4d2;\n",
       "  --sklearn-color-unfitted-level-2: #ffe0b3;\n",
       "  --sklearn-color-unfitted-level-3: chocolate;\n",
       "  /* Definition of color scheme for fitted estimators */\n",
       "  --sklearn-color-fitted-level-0: #f0f8ff;\n",
       "  --sklearn-color-fitted-level-1: #d4ebff;\n",
       "  --sklearn-color-fitted-level-2: #b3dbfd;\n",
       "  --sklearn-color-fitted-level-3: cornflowerblue;\n",
       "\n",
       "  /* Specific color for light theme */\n",
       "  --sklearn-color-text-on-default-background: var(--sg-text-color, var(--theme-code-foreground, var(--jp-content-font-color1, black)));\n",
       "  --sklearn-color-background: var(--sg-background-color, var(--theme-background, var(--jp-layout-color0, white)));\n",
       "  --sklearn-color-border-box: var(--sg-text-color, var(--theme-code-foreground, var(--jp-content-font-color1, black)));\n",
       "  --sklearn-color-icon: #696969;\n",
       "\n",
       "  @media (prefers-color-scheme: dark) {\n",
       "    /* Redefinition of color scheme for dark theme */\n",
       "    --sklearn-color-text-on-default-background: var(--sg-text-color, var(--theme-code-foreground, var(--jp-content-font-color1, white)));\n",
       "    --sklearn-color-background: var(--sg-background-color, var(--theme-background, var(--jp-layout-color0, #111)));\n",
       "    --sklearn-color-border-box: var(--sg-text-color, var(--theme-code-foreground, var(--jp-content-font-color1, white)));\n",
       "    --sklearn-color-icon: #878787;\n",
       "  }\n",
       "}\n",
       "\n",
       "#sk-container-id-2 {\n",
       "  color: var(--sklearn-color-text);\n",
       "}\n",
       "\n",
       "#sk-container-id-2 pre {\n",
       "  padding: 0;\n",
       "}\n",
       "\n",
       "#sk-container-id-2 input.sk-hidden--visually {\n",
       "  border: 0;\n",
       "  clip: rect(1px 1px 1px 1px);\n",
       "  clip: rect(1px, 1px, 1px, 1px);\n",
       "  height: 1px;\n",
       "  margin: -1px;\n",
       "  overflow: hidden;\n",
       "  padding: 0;\n",
       "  position: absolute;\n",
       "  width: 1px;\n",
       "}\n",
       "\n",
       "#sk-container-id-2 div.sk-dashed-wrapped {\n",
       "  border: 1px dashed var(--sklearn-color-line);\n",
       "  margin: 0 0.4em 0.5em 0.4em;\n",
       "  box-sizing: border-box;\n",
       "  padding-bottom: 0.4em;\n",
       "  background-color: var(--sklearn-color-background);\n",
       "}\n",
       "\n",
       "#sk-container-id-2 div.sk-container {\n",
       "  /* jupyter's `normalize.less` sets `[hidden] { display: none; }`\n",
       "     but bootstrap.min.css set `[hidden] { display: none !important; }`\n",
       "     so we also need the `!important` here to be able to override the\n",
       "     default hidden behavior on the sphinx rendered scikit-learn.org.\n",
       "     See: https://github.com/scikit-learn/scikit-learn/issues/21755 */\n",
       "  display: inline-block !important;\n",
       "  position: relative;\n",
       "}\n",
       "\n",
       "#sk-container-id-2 div.sk-text-repr-fallback {\n",
       "  display: none;\n",
       "}\n",
       "\n",
       "div.sk-parallel-item,\n",
       "div.sk-serial,\n",
       "div.sk-item {\n",
       "  /* draw centered vertical line to link estimators */\n",
       "  background-image: linear-gradient(var(--sklearn-color-text-on-default-background), var(--sklearn-color-text-on-default-background));\n",
       "  background-size: 2px 100%;\n",
       "  background-repeat: no-repeat;\n",
       "  background-position: center center;\n",
       "}\n",
       "\n",
       "/* Parallel-specific style estimator block */\n",
       "\n",
       "#sk-container-id-2 div.sk-parallel-item::after {\n",
       "  content: \"\";\n",
       "  width: 100%;\n",
       "  border-bottom: 2px solid var(--sklearn-color-text-on-default-background);\n",
       "  flex-grow: 1;\n",
       "}\n",
       "\n",
       "#sk-container-id-2 div.sk-parallel {\n",
       "  display: flex;\n",
       "  align-items: stretch;\n",
       "  justify-content: center;\n",
       "  background-color: var(--sklearn-color-background);\n",
       "  position: relative;\n",
       "}\n",
       "\n",
       "#sk-container-id-2 div.sk-parallel-item {\n",
       "  display: flex;\n",
       "  flex-direction: column;\n",
       "}\n",
       "\n",
       "#sk-container-id-2 div.sk-parallel-item:first-child::after {\n",
       "  align-self: flex-end;\n",
       "  width: 50%;\n",
       "}\n",
       "\n",
       "#sk-container-id-2 div.sk-parallel-item:last-child::after {\n",
       "  align-self: flex-start;\n",
       "  width: 50%;\n",
       "}\n",
       "\n",
       "#sk-container-id-2 div.sk-parallel-item:only-child::after {\n",
       "  width: 0;\n",
       "}\n",
       "\n",
       "/* Serial-specific style estimator block */\n",
       "\n",
       "#sk-container-id-2 div.sk-serial {\n",
       "  display: flex;\n",
       "  flex-direction: column;\n",
       "  align-items: center;\n",
       "  background-color: var(--sklearn-color-background);\n",
       "  padding-right: 1em;\n",
       "  padding-left: 1em;\n",
       "}\n",
       "\n",
       "\n",
       "/* Toggleable style: style used for estimator/Pipeline/ColumnTransformer box that is\n",
       "clickable and can be expanded/collapsed.\n",
       "- Pipeline and ColumnTransformer use this feature and define the default style\n",
       "- Estimators will overwrite some part of the style using the `sk-estimator` class\n",
       "*/\n",
       "\n",
       "/* Pipeline and ColumnTransformer style (default) */\n",
       "\n",
       "#sk-container-id-2 div.sk-toggleable {\n",
       "  /* Default theme specific background. It is overwritten whether we have a\n",
       "  specific estimator or a Pipeline/ColumnTransformer */\n",
       "  background-color: var(--sklearn-color-background);\n",
       "}\n",
       "\n",
       "/* Toggleable label */\n",
       "#sk-container-id-2 label.sk-toggleable__label {\n",
       "  cursor: pointer;\n",
       "  display: block;\n",
       "  width: 100%;\n",
       "  margin-bottom: 0;\n",
       "  padding: 0.5em;\n",
       "  box-sizing: border-box;\n",
       "  text-align: center;\n",
       "}\n",
       "\n",
       "#sk-container-id-2 label.sk-toggleable__label-arrow:before {\n",
       "  /* Arrow on the left of the label */\n",
       "  content: \"▸\";\n",
       "  float: left;\n",
       "  margin-right: 0.25em;\n",
       "  color: var(--sklearn-color-icon);\n",
       "}\n",
       "\n",
       "#sk-container-id-2 label.sk-toggleable__label-arrow:hover:before {\n",
       "  color: var(--sklearn-color-text);\n",
       "}\n",
       "\n",
       "/* Toggleable content - dropdown */\n",
       "\n",
       "#sk-container-id-2 div.sk-toggleable__content {\n",
       "  max-height: 0;\n",
       "  max-width: 0;\n",
       "  overflow: hidden;\n",
       "  text-align: left;\n",
       "  /* unfitted */\n",
       "  background-color: var(--sklearn-color-unfitted-level-0);\n",
       "}\n",
       "\n",
       "#sk-container-id-2 div.sk-toggleable__content.fitted {\n",
       "  /* fitted */\n",
       "  background-color: var(--sklearn-color-fitted-level-0);\n",
       "}\n",
       "\n",
       "#sk-container-id-2 div.sk-toggleable__content pre {\n",
       "  margin: 0.2em;\n",
       "  border-radius: 0.25em;\n",
       "  color: var(--sklearn-color-text);\n",
       "  /* unfitted */\n",
       "  background-color: var(--sklearn-color-unfitted-level-0);\n",
       "}\n",
       "\n",
       "#sk-container-id-2 div.sk-toggleable__content.fitted pre {\n",
       "  /* unfitted */\n",
       "  background-color: var(--sklearn-color-fitted-level-0);\n",
       "}\n",
       "\n",
       "#sk-container-id-2 input.sk-toggleable__control:checked~div.sk-toggleable__content {\n",
       "  /* Expand drop-down */\n",
       "  max-height: 200px;\n",
       "  max-width: 100%;\n",
       "  overflow: auto;\n",
       "}\n",
       "\n",
       "#sk-container-id-2 input.sk-toggleable__control:checked~label.sk-toggleable__label-arrow:before {\n",
       "  content: \"▾\";\n",
       "}\n",
       "\n",
       "/* Pipeline/ColumnTransformer-specific style */\n",
       "\n",
       "#sk-container-id-2 div.sk-label input.sk-toggleable__control:checked~label.sk-toggleable__label {\n",
       "  color: var(--sklearn-color-text);\n",
       "  background-color: var(--sklearn-color-unfitted-level-2);\n",
       "}\n",
       "\n",
       "#sk-container-id-2 div.sk-label.fitted input.sk-toggleable__control:checked~label.sk-toggleable__label {\n",
       "  background-color: var(--sklearn-color-fitted-level-2);\n",
       "}\n",
       "\n",
       "/* Estimator-specific style */\n",
       "\n",
       "/* Colorize estimator box */\n",
       "#sk-container-id-2 div.sk-estimator input.sk-toggleable__control:checked~label.sk-toggleable__label {\n",
       "  /* unfitted */\n",
       "  background-color: var(--sklearn-color-unfitted-level-2);\n",
       "}\n",
       "\n",
       "#sk-container-id-2 div.sk-estimator.fitted input.sk-toggleable__control:checked~label.sk-toggleable__label {\n",
       "  /* fitted */\n",
       "  background-color: var(--sklearn-color-fitted-level-2);\n",
       "}\n",
       "\n",
       "#sk-container-id-2 div.sk-label label.sk-toggleable__label,\n",
       "#sk-container-id-2 div.sk-label label {\n",
       "  /* The background is the default theme color */\n",
       "  color: var(--sklearn-color-text-on-default-background);\n",
       "}\n",
       "\n",
       "/* On hover, darken the color of the background */\n",
       "#sk-container-id-2 div.sk-label:hover label.sk-toggleable__label {\n",
       "  color: var(--sklearn-color-text);\n",
       "  background-color: var(--sklearn-color-unfitted-level-2);\n",
       "}\n",
       "\n",
       "/* Label box, darken color on hover, fitted */\n",
       "#sk-container-id-2 div.sk-label.fitted:hover label.sk-toggleable__label.fitted {\n",
       "  color: var(--sklearn-color-text);\n",
       "  background-color: var(--sklearn-color-fitted-level-2);\n",
       "}\n",
       "\n",
       "/* Estimator label */\n",
       "\n",
       "#sk-container-id-2 div.sk-label label {\n",
       "  font-family: monospace;\n",
       "  font-weight: bold;\n",
       "  display: inline-block;\n",
       "  line-height: 1.2em;\n",
       "}\n",
       "\n",
       "#sk-container-id-2 div.sk-label-container {\n",
       "  text-align: center;\n",
       "}\n",
       "\n",
       "/* Estimator-specific */\n",
       "#sk-container-id-2 div.sk-estimator {\n",
       "  font-family: monospace;\n",
       "  border: 1px dotted var(--sklearn-color-border-box);\n",
       "  border-radius: 0.25em;\n",
       "  box-sizing: border-box;\n",
       "  margin-bottom: 0.5em;\n",
       "  /* unfitted */\n",
       "  background-color: var(--sklearn-color-unfitted-level-0);\n",
       "}\n",
       "\n",
       "#sk-container-id-2 div.sk-estimator.fitted {\n",
       "  /* fitted */\n",
       "  background-color: var(--sklearn-color-fitted-level-0);\n",
       "}\n",
       "\n",
       "/* on hover */\n",
       "#sk-container-id-2 div.sk-estimator:hover {\n",
       "  /* unfitted */\n",
       "  background-color: var(--sklearn-color-unfitted-level-2);\n",
       "}\n",
       "\n",
       "#sk-container-id-2 div.sk-estimator.fitted:hover {\n",
       "  /* fitted */\n",
       "  background-color: var(--sklearn-color-fitted-level-2);\n",
       "}\n",
       "\n",
       "/* Specification for estimator info (e.g. \"i\" and \"?\") */\n",
       "\n",
       "/* Common style for \"i\" and \"?\" */\n",
       "\n",
       ".sk-estimator-doc-link,\n",
       "a:link.sk-estimator-doc-link,\n",
       "a:visited.sk-estimator-doc-link {\n",
       "  float: right;\n",
       "  font-size: smaller;\n",
       "  line-height: 1em;\n",
       "  font-family: monospace;\n",
       "  background-color: var(--sklearn-color-background);\n",
       "  border-radius: 1em;\n",
       "  height: 1em;\n",
       "  width: 1em;\n",
       "  text-decoration: none !important;\n",
       "  margin-left: 1ex;\n",
       "  /* unfitted */\n",
       "  border: var(--sklearn-color-unfitted-level-1) 1pt solid;\n",
       "  color: var(--sklearn-color-unfitted-level-1);\n",
       "}\n",
       "\n",
       ".sk-estimator-doc-link.fitted,\n",
       "a:link.sk-estimator-doc-link.fitted,\n",
       "a:visited.sk-estimator-doc-link.fitted {\n",
       "  /* fitted */\n",
       "  border: var(--sklearn-color-fitted-level-1) 1pt solid;\n",
       "  color: var(--sklearn-color-fitted-level-1);\n",
       "}\n",
       "\n",
       "/* On hover */\n",
       "div.sk-estimator:hover .sk-estimator-doc-link:hover,\n",
       ".sk-estimator-doc-link:hover,\n",
       "div.sk-label-container:hover .sk-estimator-doc-link:hover,\n",
       ".sk-estimator-doc-link:hover {\n",
       "  /* unfitted */\n",
       "  background-color: var(--sklearn-color-unfitted-level-3);\n",
       "  color: var(--sklearn-color-background);\n",
       "  text-decoration: none;\n",
       "}\n",
       "\n",
       "div.sk-estimator.fitted:hover .sk-estimator-doc-link.fitted:hover,\n",
       ".sk-estimator-doc-link.fitted:hover,\n",
       "div.sk-label-container:hover .sk-estimator-doc-link.fitted:hover,\n",
       ".sk-estimator-doc-link.fitted:hover {\n",
       "  /* fitted */\n",
       "  background-color: var(--sklearn-color-fitted-level-3);\n",
       "  color: var(--sklearn-color-background);\n",
       "  text-decoration: none;\n",
       "}\n",
       "\n",
       "/* Span, style for the box shown on hovering the info icon */\n",
       ".sk-estimator-doc-link span {\n",
       "  display: none;\n",
       "  z-index: 9999;\n",
       "  position: relative;\n",
       "  font-weight: normal;\n",
       "  right: .2ex;\n",
       "  padding: .5ex;\n",
       "  margin: .5ex;\n",
       "  width: min-content;\n",
       "  min-width: 20ex;\n",
       "  max-width: 50ex;\n",
       "  color: var(--sklearn-color-text);\n",
       "  box-shadow: 2pt 2pt 4pt #999;\n",
       "  /* unfitted */\n",
       "  background: var(--sklearn-color-unfitted-level-0);\n",
       "  border: .5pt solid var(--sklearn-color-unfitted-level-3);\n",
       "}\n",
       "\n",
       ".sk-estimator-doc-link.fitted span {\n",
       "  /* fitted */\n",
       "  background: var(--sklearn-color-fitted-level-0);\n",
       "  border: var(--sklearn-color-fitted-level-3);\n",
       "}\n",
       "\n",
       ".sk-estimator-doc-link:hover span {\n",
       "  display: block;\n",
       "}\n",
       "\n",
       "/* \"?\"-specific style due to the `<a>` HTML tag */\n",
       "\n",
       "#sk-container-id-2 a.estimator_doc_link {\n",
       "  float: right;\n",
       "  font-size: 1rem;\n",
       "  line-height: 1em;\n",
       "  font-family: monospace;\n",
       "  background-color: var(--sklearn-color-background);\n",
       "  border-radius: 1rem;\n",
       "  height: 1rem;\n",
       "  width: 1rem;\n",
       "  text-decoration: none;\n",
       "  /* unfitted */\n",
       "  color: var(--sklearn-color-unfitted-level-1);\n",
       "  border: var(--sklearn-color-unfitted-level-1) 1pt solid;\n",
       "}\n",
       "\n",
       "#sk-container-id-2 a.estimator_doc_link.fitted {\n",
       "  /* fitted */\n",
       "  border: var(--sklearn-color-fitted-level-1) 1pt solid;\n",
       "  color: var(--sklearn-color-fitted-level-1);\n",
       "}\n",
       "\n",
       "/* On hover */\n",
       "#sk-container-id-2 a.estimator_doc_link:hover {\n",
       "  /* unfitted */\n",
       "  background-color: var(--sklearn-color-unfitted-level-3);\n",
       "  color: var(--sklearn-color-background);\n",
       "  text-decoration: none;\n",
       "}\n",
       "\n",
       "#sk-container-id-2 a.estimator_doc_link.fitted:hover {\n",
       "  /* fitted */\n",
       "  background-color: var(--sklearn-color-fitted-level-3);\n",
       "}\n",
       "</style><div id=\"sk-container-id-2\" class=\"sk-top-container\"><div class=\"sk-text-repr-fallback\"><pre>LinearRegression()</pre><b>In a Jupyter environment, please rerun this cell to show the HTML representation or trust the notebook. <br />On GitHub, the HTML representation is unable to render, please try loading this page with nbviewer.org.</b></div><div class=\"sk-container\" hidden><div class=\"sk-item\"><div class=\"sk-estimator fitted sk-toggleable\"><input class=\"sk-toggleable__control sk-hidden--visually\" id=\"sk-estimator-id-2\" type=\"checkbox\" checked><label for=\"sk-estimator-id-2\" class=\"sk-toggleable__label fitted sk-toggleable__label-arrow fitted\">&nbsp;&nbsp;LinearRegression<a class=\"sk-estimator-doc-link fitted\" rel=\"noreferrer\" target=\"_blank\" href=\"https://scikit-learn.org/1.4/modules/generated/sklearn.linear_model.LinearRegression.html\">?<span>Documentation for LinearRegression</span></a><span class=\"sk-estimator-doc-link fitted\">i<span>Fitted</span></span></label><div class=\"sk-toggleable__content fitted\"><pre>LinearRegression()</pre></div> </div></div></div></div>"
      ],
      "text/plain": [
       "LinearRegression()"
      ]
     },
     "execution_count": 136,
     "metadata": {},
     "output_type": "execute_result"
    }
   ],
   "source": [
    "# Loading model to compare the results\n",
    "model = pickle.load(open('house_model.pkl','rb'))\n",
    "model"
   ]
  },
  {
   "cell_type": "markdown",
   "id": "22bcd65d-c25b-4168-9892-8e2b1b4f56bd",
   "metadata": {},
   "source": [
    "**Step-12**\n",
    "\n",
    "**Predict on test data**"
   ]
  },
  {
   "cell_type": "code",
   "execution_count": 139,
   "id": "ed9badcd-9bbe-425c-beda-68588b2f5fa4",
   "metadata": {},
   "outputs": [
    {
     "data": {
      "text/plain": [
       "array([2.41888549, 2.47737599, 2.46017044, ..., 0.66842483, 2.22901036,\n",
       "       1.56462426])"
      ]
     },
     "execution_count": 139,
     "metadata": {},
     "output_type": "execute_result"
    }
   ],
   "source": [
    "X_test.values\n",
    "# when we are passing multiples values using a Dataframe\n",
    "# is called as btach predictions\n",
    "model.predict(X_test)"
   ]
  },
  {
   "cell_type": "markdown",
   "id": "fc9be190-bd2c-4f98-9ffe-3eb97b4054e9",
   "metadata": {},
   "source": [
    "**Real time predictions**"
   ]
  },
  {
   "cell_type": "code",
   "execution_count": 142,
   "id": "0bbd665a-758d-4e54-85c9-65613557cf5a",
   "metadata": {},
   "outputs": [
    {
     "name": "stderr",
     "output_type": "stream",
     "text": [
      "C:\\Users\\HP\\anaconda3\\Lib\\site-packages\\sklearn\\base.py:493: UserWarning: X does not have valid feature names, but LinearRegression was fitted with feature names\n",
      "  warnings.warn(\n"
     ]
    },
    {
     "data": {
      "text/plain": [
       "array([-1113.69932722])"
      ]
     },
     "execution_count": 142,
     "metadata": {},
     "output_type": "execute_result"
    }
   ],
   "source": [
    "model.predict([[100,200,300,400]])"
   ]
  },
  {
   "cell_type": "markdown",
   "id": "bfef7afc-818c-4e40-8b4d-c1f3a3b943ea",
   "metadata": {},
   "source": [
    "**2) Using Joblib**"
   ]
  },
  {
   "cell_type": "code",
   "execution_count": 145,
   "id": "79f0c17a-dde2-4251-bb77-9d1b7679002d",
   "metadata": {},
   "outputs": [
    {
     "name": "stdout",
     "output_type": "stream",
     "text": [
      "Predictions: [2.41888549 2.47737599 2.46017044 ... 0.66842483 2.22901036 1.56462426]\n"
     ]
    }
   ],
   "source": [
    "import joblib\n",
    "\n",
    "# Load the model from the .joblib file\n",
    "joblib.dump(model, 'house_model.joblib')\n",
    "\n",
    "saved_model = joblib.load('house_model.joblib')\n",
    "\n",
    "# Use the loaded model for predictions\n",
    "y_pred = saved_model.predict(X_test)\n",
    "\n",
    "# Print predictions\n",
    "print(\"Predictions:\", y_pred)\n",
    "# y_pred compare with y_test"
   ]
  },
  {
   "cell_type": "code",
   "execution_count": null,
   "id": "bf927c66-375b-4c15-a219-490565516f0a",
   "metadata": {},
   "outputs": [],
   "source": []
  },
  {
   "cell_type": "code",
   "execution_count": null,
   "id": "cf587df8-acff-41dd-b0f2-54dd3563804d",
   "metadata": {},
   "outputs": [],
   "source": []
  },
  {
   "cell_type": "code",
   "execution_count": null,
   "id": "952edd84-b7b4-467f-9b8f-94415e70bdd2",
   "metadata": {},
   "outputs": [],
   "source": []
  }
 ],
 "metadata": {
  "kernelspec": {
   "display_name": "Python 3 (ipykernel)",
   "language": "python",
   "name": "python3"
  },
  "language_info": {
   "codemirror_mode": {
    "name": "ipython",
    "version": 3
   },
   "file_extension": ".py",
   "mimetype": "text/x-python",
   "name": "python",
   "nbconvert_exporter": "python",
   "pygments_lexer": "ipython3",
   "version": "3.12.4"
  }
 },
 "nbformat": 4,
 "nbformat_minor": 5
}
